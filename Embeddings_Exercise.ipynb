{
  "cells": [
    {
      "cell_type": "markdown",
      "metadata": {
        "id": "xwdzhMUMXZb3"
      },
      "source": [
        "## 0. Import the libraries and set a manual seed"
      ]
    },
    {
      "cell_type": "code",
      "execution_count": 49,
      "metadata": {
        "colab": {
          "base_uri": "https://localhost:8080/"
        },
        "id": "5YrcCwpxBzdt",
        "outputId": "f0fda7c0-eb5d-4664-e1f0-0dbd13a8bc19"
      },
      "outputs": [
        {
          "data": {
            "text/plain": [
              "<torch._C.Generator at 0x1c6d9ec2470>"
            ]
          },
          "execution_count": 49,
          "metadata": {},
          "output_type": "execute_result"
        }
      ],
      "source": [
        "import torch\n",
        "import math\n",
        "import numpy as np\n",
        "import torch.nn.functional as F\n",
        "import torch.nn as nn\n",
        "# Fixed seed so all our results will be the same\n",
        "torch.manual_seed(1)"
      ]
    },
    {
      "cell_type": "markdown",
      "metadata": {
        "id": "xQiKaT4xXjMb"
      },
      "source": [
        "## 1. Perform Tokenization\n",
        "\n",
        "Tokenization is different from simply building your vocabulary. This involves putting a numerical representation for each \"word\" or token within the NLP problem. It's also very possible that one \"word\" doesn't really mean one token. To simplify things, a very straightforward and naive way to tokenize something is to map it to an index where the lookup value is the \"token\" itself."
      ]
    },
    {
      "cell_type": "code",
      "execution_count": 50,
      "metadata": {
        "id": "NRYvWDvICgEy"
      },
      "outputs": [],
      "source": [
        "vocabulary_lookup = {\n",
        "    \"A\": 0,\n",
        "    \"B\": 1,\n",
        "    \"C\": 2\n",
        "}"
      ]
    },
    {
      "cell_type": "markdown",
      "metadata": {
        "id": "XEJDYCPIX7Hi"
      },
      "source": [
        "## 2. Create Embeddings Representation for Tokens\n",
        "\n",
        "We can use `torch`'s `Embedding` module to define a learnable set of parameters that will output the embeddings of a given token input. In this case, the first argument will be the model's sequence length and the second argument will be the size of the embeddings themselves."
      ]
    },
    {
      "cell_type": "code",
      "execution_count": 51,
      "metadata": {
        "id": "JsprZa46Cx1H"
      },
      "outputs": [],
      "source": [
        "embeddings = torch.nn.Embedding(3, 5)"
      ]
    },
    {
      "cell_type": "markdown",
      "metadata": {
        "id": "_buWLf-6YNIW"
      },
      "source": [
        "## 3. Create an Embedding Instance for our Token\n",
        "\n",
        "* `lookup_tensor` will be our container of tokens as input to produce these embeddings. Notice that we still make it a tensor to be fed to the next step.\n",
        "* These tokens are then fed to the `forward()` method of the `Embedding` instance to come up with our initial embeddings."
      ]
    },
    {
      "cell_type": "code",
      "execution_count": 52,
      "metadata": {
        "colab": {
          "base_uri": "https://localhost:8080/"
        },
        "id": "ANb9cLtXDA8J",
        "outputId": "47affa80-29d8-44f8-f09f-d2e01b646c23"
      },
      "outputs": [
        {
          "data": {
            "text/plain": [
              "tensor([0, 1, 2])"
            ]
          },
          "execution_count": 52,
          "metadata": {},
          "output_type": "execute_result"
        }
      ],
      "source": [
        "lookup_tensor = torch.tensor([vocabulary_lookup[\"A\"], vocabulary_lookup[\"B\"], vocabulary_lookup[\"C\"]])\n",
        "\n",
        "lookup_tensor"
      ]
    },
    {
      "cell_type": "code",
      "execution_count": 53,
      "metadata": {
        "colab": {
          "base_uri": "https://localhost:8080/"
        },
        "id": "f5Sk_bSoDs0F",
        "outputId": "1a990cd6-2047-47c2-e2c4-e07a88dfcc3b"
      },
      "outputs": [
        {
          "data": {
            "text/plain": [
              "tensor([[ 0.6614,  0.2669,  0.0617,  0.6213, -0.4519],\n",
              "        [-0.1661, -1.5228,  0.3817, -1.0276, -0.5631],\n",
              "        [-0.8923, -0.0583, -0.1955, -0.9656,  0.4224]],\n",
              "       grad_fn=<EmbeddingBackward0>)"
            ]
          },
          "execution_count": 53,
          "metadata": {},
          "output_type": "execute_result"
        }
      ],
      "source": [
        "initial_embeddings = embeddings(lookup_tensor)\n",
        "\n",
        "initial_embeddings"
      ]
    },
    {
      "cell_type": "markdown",
      "metadata": {
        "id": "VCtzuIWcYpbT"
      },
      "source": [
        "## 4. Create Positional Embeddings"
      ]
    },
    {
      "cell_type": "code",
      "execution_count": 54,
      "metadata": {
        "id": "_MFNgi6L-dpV"
      },
      "outputs": [],
      "source": [
        "max_len = 3\n",
        "d_model = 5"
      ]
    },
    {
      "cell_type": "code",
      "execution_count": 55,
      "metadata": {
        "colab": {
          "base_uri": "https://localhost:8080/"
        },
        "id": "sdV259mB-KXz",
        "outputId": "a65fa8c2-26b4-485b-c7f1-da310354ac53"
      },
      "outputs": [
        {
          "data": {
            "text/plain": [
              "tensor([[ 0.0000,  1.0000,  0.0000,  1.0000,  0.0000],\n",
              "        [ 0.8415,  0.5403,  0.0631,  0.9980,  0.0000],\n",
              "        [ 0.9093, -0.4161,  0.1259,  0.9920,  0.0000]])"
            ]
          },
          "execution_count": 55,
          "metadata": {},
          "output_type": "execute_result"
        }
      ],
      "source": [
        "def gen_pe(max_length, d_model, n):\n",
        "\n",
        "  # generate an empty matrix for the positional encodings (pe)\n",
        "  pe = np.zeros(max_length*d_model).reshape(max_length, d_model)\n",
        "\n",
        "  # for each position\n",
        "  for k in np.arange(max_length):\n",
        "\n",
        "    # for each dimension\n",
        "    for i in np.arange(d_model//2):\n",
        "\n",
        "      # calculate the internal value for sin and cos\n",
        "      theta = k / (n ** ((2*i)/d_model))\n",
        "\n",
        "      # even dims: sin\n",
        "      pe[k, 2*i] = math.sin(theta)\n",
        "\n",
        "      # odd dims: cos\n",
        "      pe[k, 2*i+1] = math.cos(theta)\n",
        "\n",
        "  return pe\n",
        "\n",
        "positional_embeddings = gen_pe(max_len, d_model, 1000)\n",
        "\n",
        "positional_embeddings = torch.tensor(positional_embeddings, dtype=torch.float)\n",
        "\n",
        "positional_embeddings"
      ]
    },
    {
      "cell_type": "markdown",
      "metadata": {
        "id": "BFEgqJFJY_HZ"
      },
      "source": [
        "## 5. Create Input Embeddings by Adding Initial + Positional"
      ]
    },
    {
      "cell_type": "code",
      "execution_count": 56,
      "metadata": {
        "colab": {
          "base_uri": "https://localhost:8080/"
        },
        "id": "VCkFQRjN_ULZ",
        "outputId": "435506b4-c74a-4b26-a278-e5d51a0ec41a"
      },
      "outputs": [
        {
          "data": {
            "text/plain": [
              "tensor([[ 0.6614,  1.2669,  0.0617,  1.6213, -0.4519],\n",
              "        [ 0.6753, -0.9825,  0.4447, -0.0296, -0.5631],\n",
              "        [ 0.0170, -0.4744, -0.0697,  0.0264,  0.4224]], grad_fn=<AddBackward0>)"
            ]
          },
          "execution_count": 56,
          "metadata": {},
          "output_type": "execute_result"
        }
      ],
      "source": [
        "input_embeddings = torch.add(initial_embeddings, positional_embeddings)\n",
        "\n",
        "input_embeddings"
      ]
    },
    {
      "cell_type": "markdown",
      "metadata": {
        "id": "RpVdsy43ZWtp"
      },
      "source": [
        "## Exercise: Completing a Transformer Module\n",
        "\n",
        "1. Create a class called `TransformerModule` with the following attributes:\n",
        "\n",
        "* Input should be the `max_length` of the model (i.e. how much can it accept) and `d_model` (i.e. how long are the embeddings.\n",
        "* The forward function should take in `x` where `x` is similar to `lookup_tensor`\n",
        "* Complete the Transformer module by solving for the actual attention matrix and multiplying it to a parameter `V`. `V` can be created by declaring a `Parameter` module (see example below).\n",
        "\n",
        "2. Test the `forward` method of the model by passing in a token sequence with some defined length.\n",
        "\n",
        "You can use `torch.transpose` [https://pytorch.org/docs/stable/generated/torch.transpose.html](https://pytorch.org/docs/stable/generated/torch.transpose.html) for transposing a matrix."
      ]
    },
    {
      "cell_type": "code",
      "execution_count": 57,
      "metadata": {},
      "outputs": [],
      "source": [
        "m = 5\n",
        "n = 5"
      ]
    },
    {
      "cell_type": "code",
      "execution_count": 58,
      "metadata": {},
      "outputs": [
        {
          "data": {
            "text/plain": [
              "array([[ 0.        ,  1.        ,  0.        ,  1.        ,  0.        ],\n",
              "       [ 0.84147098,  0.54030231,  0.15782664,  0.98746684,  0.02511622],\n",
              "       [ 0.90929743, -0.41614684,  0.31169715,  0.9501815 ,  0.0502166 ],\n",
              "       [ 0.14112001, -0.9899925 ,  0.45775455,  0.88907861,  0.07528529],\n",
              "       [-0.7568025 , -0.65364362,  0.59233773,  0.80568978,  0.10030649]])"
            ]
          },
          "execution_count": 58,
          "metadata": {},
          "output_type": "execute_result"
        }
      ],
      "source": [
        "window_length = m\n",
        "embedding_dims = n\n",
        "k = np.expand_dims(np.arange(0, window_length), axis=1)\n",
        "positional_embedding = np.zeros((window_length,embedding_dims)) + k\n",
        "tensor_values = np.arange(embedding_dims) // 2\n",
        "div = 10000**(tensor_values/embedding_dims)\n",
        "positional_embedding = positional_embedding/div\n",
        "positional_embedding[:,0::2] = np.sin(positional_embedding[:,0::2])\n",
        "positional_embedding[:,1::2] = np.cos(positional_embedding[:,1::2])\n",
        "positional_embedding"
      ]
    },
    {
      "cell_type": "code",
      "execution_count": 77,
      "metadata": {
        "colab": {
          "base_uri": "https://localhost:8080/"
        },
        "id": "6FwWjjZFSHBE",
        "outputId": "ff6593e3-6369-4e82-f8b3-63f8d1925462"
      },
      "outputs": [
        {
          "name": "stdout",
          "output_type": "stream",
          "text": [
            "tensor([[0.75, 0.11, 0.09, 0.04, 0.02],\n",
            "        [0.11, 0.48, 0.02, 0.02, 0.38],\n",
            "        [0.28, 0.06, 0.45, 0.20, 0.01],\n",
            "        [0.22, 0.11, 0.38, 0.25, 0.05],\n",
            "        [0.01, 0.16, 0.00, 0.00, 0.83]], grad_fn=<SoftmaxBackward0>)\n"
          ]
        },
        {
          "data": {
            "text/plain": [
              "tensor([[-1.05, -0.59, -0.66, -1.37,  0.09],\n",
              "        [-0.45, -0.18, -1.36,  0.48,  0.54],\n",
              "        [ 0.26,  0.06, -0.17, -1.12,  0.24],\n",
              "        [ 0.19,  0.21, -0.24, -0.83,  0.41],\n",
              "        [-0.15,  0.60, -1.42,  2.10,  0.10]], grad_fn=<MmBackward0>)"
            ]
          },
          "execution_count": 77,
          "metadata": {},
          "output_type": "execute_result"
        }
      ],
      "source": [
        "# a V trainable parameter component with dimensionality m and n\n",
        "torch.manual_seed(1)\n",
        "\n",
        "class TransformerModule(nn.Module):\n",
        "    \"\"\" Transformer block: communication followed by computation \"\"\"\n",
        "    def __init__(self,m, n, positional_embedding):\n",
        "        # n_embd: embedding dimension, n_head: the number of heads we'd like\n",
        "        super().__init__()\n",
        "        self.emb_dim = n\n",
        "        self.sequence_length = m\n",
        "        self.trainable_parameters = torch.nn.Parameter(torch.randn(self.sequence_length, self.emb_dim))\n",
        "        self.token_embedding = torch.nn.Embedding(self.sequence_length,self.emb_dim)\n",
        "        self.pe = torch.Tensor(positional_embedding)\n",
        "        \n",
        "    def forward(self, x):\n",
        "        x = self.token_embedding(x)\n",
        "        query = x + self.pe\n",
        "        # x = query @ query.T\n",
        "        x = query @ query.transpose(0,1)\n",
        "        x /= self.emb_dim ** 0.5\n",
        "        x =  F.softmax(x, dim=1)\n",
        "        x = x @ self.trainable_parameters\n",
        "        return x\n",
        "    \n",
        "torch.set_printoptions(precision=2, threshold=2)\n",
        "model = TransformerModule(m, n, positional_embedding)\n",
        "x = torch.tensor([1,2,3,3,2])\n",
        "model(x)\n",
        "\n",
        "\n"
      ]
    }
  ],
  "metadata": {
    "colab": {
      "provenance": []
    },
    "kernelspec": {
      "display_name": "Python 3",
      "name": "python3"
    },
    "language_info": {
      "codemirror_mode": {
        "name": "ipython",
        "version": 3
      },
      "file_extension": ".py",
      "mimetype": "text/x-python",
      "name": "python",
      "nbconvert_exporter": "python",
      "pygments_lexer": "ipython3",
      "version": "3.7.16"
    }
  },
  "nbformat": 4,
  "nbformat_minor": 0
}
