{
 "cells": [
  {
   "cell_type": "code",
   "execution_count": 89,
   "metadata": {},
   "outputs": [],
   "source": [
    "import torch\n",
    "import torch.nn as nn\n",
    "import gensim\n",
    "from transformers import BertTokenizer, BertModel\n",
    "\n",
    "# Load pre-trained Word2Vec embeddings\n",
    "word2vec_model = gensim.models.KeyedVectors.load_word2vec_format('GoogleNews-vectors-negative300.bin', binary=True)\n",
    "\n",
    "# Define a sample sentence\n",
    "sentence = \"I swam across river to get to the other bank.\"\n",
    "\n",
    "# Tokenize the sentence using a tokenizer\n",
    "tokenizer = BertTokenizer.from_pretrained('bert-base-uncased')\n",
    "tokens = tokenizer.tokenize(sentence)\n",
    "input_ids = tokenizer.convert_tokens_to_ids(tokens)\n",
    "input_ids = torch.tensor(input_ids).unsqueeze(0)  # Add batch dimension\n"
   ]
  },
  {
   "cell_type": "code",
   "execution_count": 92,
   "metadata": {},
   "outputs": [
    {
     "name": "stderr",
     "output_type": "stream",
     "text": [
      "Some weights of the model checkpoint at bert-base-uncased were not used when initializing BertModel: ['cls.seq_relationship.weight', 'cls.predictions.bias', 'cls.predictions.transform.dense.weight', 'cls.predictions.transform.LayerNorm.weight', 'cls.predictions.transform.dense.bias', 'cls.predictions.transform.LayerNorm.bias', 'cls.seq_relationship.bias']\n",
      "- This IS expected if you are initializing BertModel from the checkpoint of a model trained on another task or with another architecture (e.g. initializing a BertForSequenceClassification model from a BertForPreTraining model).\n",
      "- This IS NOT expected if you are initializing BertModel from the checkpoint of a model that you expect to be exactly identical (initializing a BertForSequenceClassification model from a BertForSequenceClassification model).\n"
     ]
    }
   ],
   "source": [
    "# Load a pre-trained BERT model for self-attention\n",
    "bert_model = BertModel.from_pretrained('bert-base-uncased')\n",
    "\n",
    "# Get Word2Vec embeddings for the tokens\n",
    "word2vec_embeddings = []\n",
    "for token in tokens:\n",
    "    if token in word2vec_model:\n",
    "        word2vec_embeddings.append(word2vec_model[token])\n",
    "    else:\n",
    "        # If the token is not in Word2Vec, use a zero vector or other strategies.\n",
    "        word2vec_embeddings.append([0.0] * word2vec_model.vector_size)\n",
    "\n",
    "word2vec_embeddings = torch.tensor(word2vec_embeddings).unsqueeze(0)  # Add batch dimension\n",
    "\n",
    "# # Pass the Word2Vec embeddings through the BERT model\n",
    "# with torch.no_grad():\n",
    "#     outputs = bert_model(input_ids)\n",
    "#     bert_embeddings = outputs.last_hidden_state\n",
    "\n",
    "# # Implement self-attention\n",
    "# self_attention = nn.MultiheadAttention(embed_dim=word2vec_embeddings.size(2), num_heads=4)\n",
    "# output, _ = self_attention(word2vec_embeddings.permute(1, 0, 2), word2vec_embeddings.permute(1, 0, 2), word2vec_embeddings.permute(1, 0, 2))\n"
   ]
  },
  {
   "cell_type": "code",
   "execution_count": 93,
   "metadata": {},
   "outputs": [],
   "source": [
    "result = torch.matmul(word2vec_embeddings.view(11,300),word2vec_embeddings.view(300,11))"
   ]
  },
  {
   "cell_type": "code",
   "execution_count": 112,
   "metadata": {},
   "outputs": [
    {
     "name": "stdout",
     "output_type": "stream",
     "text": [
      "tensor(1.)\n",
      "tensor([[0.0864, 0.0759, 0.1066, 0.0636, 0.0868, 0.0900, 0.1149, 0.0790, 0.1336,\n",
      "         0.1022, 0.0610],\n",
      "        [0.0774, 0.1296, 0.1107, 0.0453, 0.1457, 0.0303, 0.0895, 0.0766, 0.0917,\n",
      "         0.1309, 0.0723],\n",
      "        [0.0776, 0.0792, 0.0780, 0.1078, 0.1056, 0.0786, 0.0830, 0.1063, 0.0658,\n",
      "         0.0979, 0.1203],\n",
      "        [0.0819, 0.0911, 0.0691, 0.0716, 0.0682, 0.0445, 0.0674, 0.0623, 0.1261,\n",
      "         0.1524, 0.1654],\n",
      "        [0.0909, 0.0909, 0.0909, 0.0909, 0.0909, 0.0909, 0.0909, 0.0909, 0.0909,\n",
      "         0.0909, 0.0909],\n",
      "        [0.0916, 0.0923, 0.0714, 0.0727, 0.0875, 0.0917, 0.0843, 0.1027, 0.1121,\n",
      "         0.0782, 0.1157],\n",
      "        [0.0909, 0.0909, 0.0909, 0.0909, 0.0909, 0.0909, 0.0909, 0.0909, 0.0909,\n",
      "         0.0909, 0.0909],\n",
      "        [0.0925, 0.0947, 0.0970, 0.1038, 0.0810, 0.0891, 0.0804, 0.0907, 0.0939,\n",
      "         0.0888, 0.0881],\n",
      "        [0.1055, 0.1042, 0.0815, 0.0976, 0.0724, 0.0920, 0.0729, 0.1169, 0.0776,\n",
      "         0.0535, 0.1259],\n",
      "        [0.0955, 0.1161, 0.0779, 0.0847, 0.0655, 0.0663, 0.0860, 0.1103, 0.0599,\n",
      "         0.0768, 0.1611],\n",
      "        [0.0909, 0.0909, 0.0909, 0.0909, 0.0909, 0.0909, 0.0909, 0.0909, 0.0909,\n",
      "         0.0909, 0.0909]])\n"
     ]
    },
    {
     "name": "stderr",
     "output_type": "stream",
     "text": [
      "d:\\anaconda3\\envs\\deepgcn\\lib\\site-packages\\ipykernel_launcher.py:2: UserWarning: Implicit dimension choice for softmax has been deprecated. Change the call to include dim=X as an argument.\n",
      "  \n",
      "d:\\anaconda3\\envs\\deepgcn\\lib\\site-packages\\ipykernel_launcher.py:3: UserWarning: Implicit dimension choice for softmax has been deprecated. Change the call to include dim=X as an argument.\n",
      "  This is separate from the ipykernel package so we can avoid doing imports until\n"
     ]
    }
   ],
   "source": [
    "softmax = nn.Softmax()\n",
    "print(torch.sum(softmax(result[1])))\n",
    "print(softmax(result))"
   ]
  },
  {
   "cell_type": "code",
   "execution_count": 113,
   "metadata": {},
   "outputs": [
    {
     "name": "stderr",
     "output_type": "stream",
     "text": [
      "d:\\anaconda3\\envs\\deepgcn\\lib\\site-packages\\ipykernel_launcher.py:5: UserWarning: Implicit dimension choice for softmax has been deprecated. Change the call to include dim=X as an argument.\n",
      "  \"\"\"\n"
     ]
    },
    {
     "data": {
      "image/png": "[encoded data removed]",
      "text/plain": [
       "<Figure size 640x480 with 2 Axes>"
      ]
     },
     "metadata": {},
     "output_type": "display_data"
    }
   ],
   "source": [
    "import numpy as np\n",
    "import matplotlib.pyplot as plt\n",
    "\n",
    "# Reshape the sorted values back to an 11x11 tensor\n",
    "sorted_tensor = softmax(result)\n",
    "# Create a heatmap of the sorted tensor\n",
    "plt.imshow(sorted_tensor)  # You can change the colormap to your preference\n",
    "plt.colorbar()\n",
    "plt.title('11x11 Tensor (Highest to Lowest)')\n",
    "plt.show()"
   ]
  },
  {
   "cell_type": "code",
   "execution_count": 114,
   "metadata": {},
   "outputs": [
    {
     "name": "stderr",
     "output_type": "stream",
     "text": [
      "d:\\anaconda3\\envs\\deepgcn\\lib\\site-packages\\ipykernel_launcher.py:1: UserWarning: Implicit dimension choice for softmax has been deprecated. Change the call to include dim=X as an argument.\n",
      "  \"\"\"Entry point for launching an IPython kernel.\n"
     ]
    },
    {
     "data": {
      "text/plain": [
       "tensor([[0.0864, 0.0759, 0.1066, 0.0636, 0.0868, 0.0900, 0.1149, 0.0790, 0.1336,\n",
       "         0.1022, 0.0610],\n",
       "        [0.0774, 0.1296, 0.1107, 0.0453, 0.1457, 0.0303, 0.0895, 0.0766, 0.0917,\n",
       "         0.1309, 0.0723],\n",
       "        [0.0776, 0.0792, 0.0780, 0.1078, 0.1056, 0.0786, 0.0830, 0.1063, 0.0658,\n",
       "         0.0979, 0.1203],\n",
       "        [0.0819, 0.0911, 0.0691, 0.0716, 0.0682, 0.0445, 0.0674, 0.0623, 0.1261,\n",
       "         0.1524, 0.1654],\n",
       "        [0.0909, 0.0909, 0.0909, 0.0909, 0.0909, 0.0909, 0.0909, 0.0909, 0.0909,\n",
       "         0.0909, 0.0909],\n",
       "        [0.0916, 0.0923, 0.0714, 0.0727, 0.0875, 0.0917, 0.0843, 0.1027, 0.1121,\n",
       "         0.0782, 0.1157],\n",
       "        [0.0909, 0.0909, 0.0909, 0.0909, 0.0909, 0.0909, 0.0909, 0.0909, 0.0909,\n",
       "         0.0909, 0.0909],\n",
       "        [0.0925, 0.0947, 0.0970, 0.1038, 0.0810, 0.0891, 0.0804, 0.0907, 0.0939,\n",
       "         0.0888, 0.0881],\n",
       "        [0.1055, 0.1042, 0.0815, 0.0976, 0.0724, 0.0920, 0.0729, 0.1169, 0.0776,\n",
       "         0.0535, 0.1259],\n",
       "        [0.0955, 0.1161, 0.0779, 0.0847, 0.0655, 0.0663, 0.0860, 0.1103, 0.0599,\n",
       "         0.0768, 0.1611],\n",
       "        [0.0909, 0.0909, 0.0909, 0.0909, 0.0909, 0.0909, 0.0909, 0.0909, 0.0909,\n",
       "         0.0909, 0.0909]])"
      ]
     },
     "execution_count": 114,
     "metadata": {},
     "output_type": "execute_result"
    }
   ],
   "source": [
    "softmax(result)"
   ]
  },
  {
   "cell_type": "code",
   "execution_count": 19,
   "metadata": {},
   "outputs": [
    {
     "ename": "RuntimeError",
     "evalue": "The size of tensor a (15) must match the size of tensor b (300) at non-singleton dimension 1",
     "output_type": "error",
     "traceback": [
      "\u001b[1;31m---------------------------------------------------------------------------\u001b[0m",
      "\u001b[1;31mRuntimeError\u001b[0m                              Traceback (most recent call last)",
      "\u001b[1;32m~\\AppData\\Local\\Temp\\ipykernel_17664\\441136909.py\u001b[0m in \u001b[0;36m<module>\u001b[1;34m\u001b[0m\n\u001b[1;32m----> 1\u001b[1;33m \u001b[0mtorch\u001b[0m\u001b[1;33m.\u001b[0m\u001b[0mmul\u001b[0m\u001b[1;33m(\u001b[0m\u001b[0mword2vec_embeddings\u001b[0m\u001b[1;33m[\u001b[0m\u001b[1;36m0\u001b[0m\u001b[1;33m]\u001b[0m\u001b[1;33m.\u001b[0m\u001b[0mview\u001b[0m\u001b[1;33m(\u001b[0m\u001b[1;36m300\u001b[0m\u001b[1;33m,\u001b[0m \u001b[1;36m15\u001b[0m\u001b[1;33m)\u001b[0m\u001b[1;33m,\u001b[0m \u001b[0mword2vec_embeddings\u001b[0m\u001b[1;33m[\u001b[0m\u001b[1;36m0\u001b[0m\u001b[1;33m]\u001b[0m\u001b[1;33m)\u001b[0m\u001b[1;33m.\u001b[0m\u001b[0mshape\u001b[0m\u001b[1;33m\u001b[0m\u001b[1;33m\u001b[0m\u001b[0m\n\u001b[0m",
      "\u001b[1;31mRuntimeError\u001b[0m: The size of tensor a (15) must match the size of tensor b (300) at non-singleton dimension 1"
     ]
    }
   ],
   "source": [
    "new_tensor = word2vec_embeddings[0].view(300, 15)\n",
    "torch.mul(new_tensor, word2vec_embeddings[0]).shape"
   ]
  },
  {
   "cell_type": "code",
   "execution_count": 53,
   "metadata": {},
   "outputs": [
    {
     "data": {
      "text/plain": [
       "torch.Size([1, 15, 300])"
      ]
     },
     "execution_count": 53,
     "metadata": {},
     "output_type": "execute_result"
    }
   ],
   "source": [
    "word2vec_embeddings.shape"
   ]
  },
  {
   "cell_type": "code",
   "execution_count": 46,
   "metadata": {},
   "outputs": [
    {
     "data": {
      "text/plain": [
       "tensor([[3., 1., 1., 3., 1.],\n",
       "        [1., 2., 4., 1., 3.],\n",
       "        [3., 1., 1., 3., 1.],\n",
       "        [4., 3., 5., 4., 4.]])"
      ]
     },
     "execution_count": 46,
     "metadata": {},
     "output_type": "execute_result"
    }
   ],
   "source": [
    "torch.manual_seed(1)\n",
    "\n",
    "user = torch.Tensor([[1,0],[0,1],[1,0],[1,1]])\n",
    "movie = torch.Tensor([[3,1,1,3,1],[1,2,4,1,3]])\n",
    "# torch.sum(torch.mul(b, c),axis=1)\n",
    "torch.matmul(user, movie)"
   ]
  },
  {
   "cell_type": "code",
   "execution_count": 49,
   "metadata": {},
   "outputs": [
    {
     "name": "stdout",
     "output_type": "stream",
     "text": [
      "tensor([[0.9371, 0.6556],\n",
      "        [0.3138, 0.1980],\n",
      "        [0.4162, 0.2843],\n",
      "        [0.3398, 0.5239]])\n",
      "tensor([[0.7981, 0.7718, 0.0112, 0.8100, 0.6397],\n",
      "        [0.9743, 0.8300, 0.0444, 0.0246, 0.2588]])\n"
     ]
    },
    {
     "data": {
      "text/plain": [
       "tensor([[1.3866, 1.2674, 0.0396, 0.7751, 0.7691],\n",
       "        [0.4434, 0.4065, 0.0123, 0.2590, 0.2520],\n",
       "        [0.6092, 0.5572, 0.0173, 0.3441, 0.3398],\n",
       "        [0.7816, 0.6971, 0.0271, 0.2881, 0.3530]])"
      ]
     },
     "execution_count": 49,
     "metadata": {},
     "output_type": "execute_result"
    }
   ],
   "source": [
    "user = torch.rand(4,2)\n",
    "print(user)\n",
    "movie = torch.rand(2,5)\n",
    "print(movie)\n",
    "torch.matmul(user, movie)"
   ]
  },
  {
   "cell_type": "code",
   "execution_count": 53,
   "metadata": {},
   "outputs": [
    {
     "data": {
      "text/plain": [
       "tensor([0.7479, 0.6388])"
      ]
     },
     "execution_count": 53,
     "metadata": {},
     "output_type": "execute_result"
    }
   ],
   "source": [
    "torch.Tensor([0.9371, 0.6556]) *  torch.Tensor([0.7981, 0.9743])"
   ]
  },
  {
   "cell_type": "code",
   "execution_count": 30,
   "metadata": {},
   "outputs": [
    {
     "name": "stdout",
     "output_type": "stream",
     "text": [
      "tensor([[[-0.1264, -0.1940,  0.3937,  0.1021, -0.7483,  0.5508,  0.3210,\n",
      "          -0.5012],\n",
      "         [ 0.6855,  0.5035, -0.6155,  0.2949,  0.6744,  0.1611, -0.1048,\n",
      "          -1.0192],\n",
      "         [-0.9521, -0.7735,  0.4557, -0.4738, -0.7542, -0.7260, -0.0103,\n",
      "          -0.2693],\n",
      "         [ 0.9037, -0.9013, -0.2339,  0.3013,  0.6641, -0.0033, -0.0853,\n",
      "          -1.2877]],\n",
      "\n",
      "        [[ 0.0765, -0.2607,  0.0106, -0.3896,  0.5297,  0.6772,  0.3032,\n",
      "           0.3790],\n",
      "         [ 0.0099,  0.0607, -0.5835, -0.1111,  1.1962, -0.7374, -0.8543,\n",
      "          -0.8504],\n",
      "         [ 0.1832,  0.1216,  0.1411, -0.9431,  0.5114,  0.5078, -0.4454,\n",
      "           0.1776],\n",
      "         [-0.7331, -0.3392,  0.3754,  0.4353, -0.5939, -0.6783,  0.6507,\n",
      "          -0.2571]]], grad_fn=<UnsafeViewBackward0>)\n",
      "tensor([[[-0.1264, -0.1940,  0.3937,  0.1021, -0.7483,  0.5508,  0.3210,\n",
      "          -0.5012],\n",
      "         [ 0.2337,  0.1153, -0.0538,  0.1876, -0.1174,  0.3780,  0.1321,\n",
      "          -0.7310],\n",
      "         [ 0.4484,  0.3065, -0.3710,  0.2188,  0.3340,  0.1877, -0.0203,\n",
      "          -0.8833],\n",
      "         [-0.3475, -0.4008,  0.3650, -0.0815, -0.6599,  0.0847,  0.1817,\n",
      "          -0.4656]],\n",
      "\n",
      "        [[ 0.0765, -0.2607,  0.0106, -0.3896,  0.5297,  0.6772,  0.3032,\n",
      "           0.3790],\n",
      "         [ 0.0202,  0.0108, -0.4913, -0.1543,  1.0927, -0.5178, -0.6746,\n",
      "          -0.6596],\n",
      "         [ 0.0984, -0.0676, -0.0676, -0.5169,  0.6600,  0.3312, -0.1831,\n",
      "           0.0602],\n",
      "         [-0.2149, -0.1300, -0.0906, -0.0446,  0.4120, -0.3530, -0.0959,\n",
      "          -0.3375]]], grad_fn=<UnsafeViewBackward0>)\n"
     ]
    }
   ],
   "source": [
    "import torch\n",
    "import torch.nn as nn\n",
    "import torch.nn.functional as F\n",
    "torch.manual_seed(1337)\n",
    "\n",
    "B,T,C = 2,4,16\n",
    "x = torch.randn(B,T,C)\n",
    "x\n",
    "\n",
    "head_size = 8\n",
    "key = nn.Linear(C,head_size, bias=False)\n",
    "value = nn.Linear(C,head_size, bias=False)\n",
    "query  = nn.Linear(C,head_size, bias=False)\n",
    "\n",
    "k = key(x)\n",
    "q = query(x)\n",
    "\n",
    "wei = q @ k.permute(0,2,1)\n",
    "\n",
    "# v = value(x)\n",
    "tril = torch.tril(torch.ones(T,T))\n",
    "wei = wei.masked_fill(tril == 0, float('-inf'))\n",
    "wei = F.softmax(wei,dim= -1)\n",
    "\n",
    "v = value(x)\n",
    "out = wei @ v\n",
    "print(out)\n",
    "\n",
    "\n"
   ]
  },
  {
   "cell_type": "code",
   "execution_count": 45,
   "metadata": {},
   "outputs": [
    {
     "data": {
      "text/plain": [
       "torch.Size([4, 16, 8])"
      ]
     },
     "execution_count": 45,
     "metadata": {},
     "output_type": "execute_result"
    }
   ],
   "source": [
    "k.transpose(2,1).shape"
   ]
  },
  {
   "cell_type": "code",
   "execution_count": 39,
   "metadata": {},
   "outputs": [
    {
     "name": "stdout",
     "output_type": "stream",
     "text": [
      "torch.Size([2, 3])\n",
      " \n",
      "torch.Size([3, 2])\n",
      " \n",
      "tensor([[1, 2, 3],\n",
      "        [4, 5, 6]])\n",
      "tensor([[1, 4],\n",
      "        [2, 5],\n",
      "        [3, 6]])\n"
     ]
    }
   ],
   "source": [
    "import torch\n",
    "\n",
    "# Create a sample tensor\n",
    "x = torch.tensor([[1, 2, 3],\n",
    "                  [4, 5, 6]])\n",
    "\n",
    "print(x.shape)\n",
    "# Transpose the tensor\n",
    "x_transposed = x.transpose(1,0)\n",
    "print(\" \")\n",
    "print(x_transposed.shape)\n",
    "print(\" \")\n",
    "print(x)\n",
    "print(x_transposed)"
   ]
  }
 ],
 "metadata": {
  "kernelspec": {
   "display_name": "Python 3",
   "language": "python",
   "name": "python3"
  },
  "language_info": {
   "codemirror_mode": {
    "name": "ipython",
    "version": 3
   },
   "file_extension": ".py",
   "mimetype": "text/x-python",
   "name": "python",
   "nbconvert_exporter": "python",
   "pygments_lexer": "ipython3",
   "version": "3.7.16"
  }
 },
 "nbformat": 4,
 "nbformat_minor": 4
}
