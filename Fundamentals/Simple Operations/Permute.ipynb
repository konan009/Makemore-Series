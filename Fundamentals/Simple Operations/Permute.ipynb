{
  "cells": [
    {
      "cell_type": "code",
      "execution_count": 3,
      "metadata": {},
      "outputs": [],
      "source": [
        "import torch "
      ]
    },
    {
      "cell_type": "code",
      "execution_count": 4,
      "metadata": {},
      "outputs": [
        {
          "data": {
            "text/plain": [
              "tensor([[[ 0,  1,  2,  3],\n",
              "         [ 4,  5,  6,  7],\n",
              "         [ 8,  9, 10, 11]],\n",
              "\n",
              "        [[12, 13, 14, 15],\n",
              "         [16, 17, 18, 19],\n",
              "         [20, 21, 22, 23]]])"
            ]
          },
          "execution_count": 4,
          "metadata": {},
          "output_type": "execute_result"
        }
      ],
      "source": [
        "x = torch.arange(0,2*3*4).view(2,3,4)\n",
        "x"
      ]
    },
    {
      "cell_type": "code",
      "execution_count": 5,
      "metadata": {},
      "outputs": [
        {
          "data": {
            "text/plain": [
              "tensor([[[ 0,  1,  2,  3],\n",
              "         [ 4,  5,  6,  7]],\n",
              "\n",
              "        [[ 8,  9, 10, 11],\n",
              "         [12, 13, 14, 15]],\n",
              "\n",
              "        [[16, 17, 18, 19],\n",
              "         [20, 21, 22, 23]]])"
            ]
          },
          "execution_count": 5,
          "metadata": {},
          "output_type": "execute_result"
        }
      ],
      "source": [
        "x.view(3,2,4)"
      ]
    },
    {
      "cell_type": "code",
      "execution_count": 6,
      "metadata": {},
      "outputs": [
        {
          "data": {
            "text/plain": [
              "(torch.Size([3, 4, 2]),\n",
              " tensor([[[ 0, 12],\n",
              "          [ 1, 13],\n",
              "          [ 2, 14],\n",
              "          [ 3, 15]],\n",
              " \n",
              "         [[ 4, 16],\n",
              "          [ 5, 17],\n",
              "          [ 6, 18],\n",
              "          [ 7, 19]],\n",
              " \n",
              "         [[ 8, 20],\n",
              "          [ 9, 21],\n",
              "          [10, 22],\n",
              "          [11, 23]]]))"
            ]
          },
          "execution_count": 6,
          "metadata": {},
          "output_type": "execute_result"
        }
      ],
      "source": [
        "x.permute(1,2,0).shape, x.permute(1,2,0)\n"
      ]
    },
    {
      "cell_type": "code",
      "execution_count": 7,
      "metadata": {},
      "outputs": [
        {
          "data": {
            "text/plain": [
              "(torch.Size([2, 4, 3]),\n",
              " tensor([[[ 0,  4,  8],\n",
              "          [ 1,  5,  9],\n",
              "          [ 2,  6, 10],\n",
              "          [ 3,  7, 11]],\n",
              " \n",
              "         [[12, 16, 20],\n",
              "          [13, 17, 21],\n",
              "          [14, 18, 22],\n",
              "          [15, 19, 23]]]))"
            ]
          },
          "execution_count": 7,
          "metadata": {},
          "output_type": "execute_result"
        }
      ],
      "source": [
        "x.permute(0,2,1).shape,x.permute(0,2,1)"
      ]
    },
    {
      "cell_type": "code",
      "execution_count": 8,
      "metadata": {},
      "outputs": [
        {
          "data": {
            "text/plain": [
              "(torch.Size([3, 2, 4]),\n",
              " tensor([[[ 0,  1,  2,  3],\n",
              "          [12, 13, 14, 15]],\n",
              " \n",
              "         [[ 4,  5,  6,  7],\n",
              "          [16, 17, 18, 19]],\n",
              " \n",
              "         [[ 8,  9, 10, 11],\n",
              "          [20, 21, 22, 23]]]))"
            ]
          },
          "execution_count": 8,
          "metadata": {},
          "output_type": "execute_result"
        }
      ],
      "source": [
        "x.permute(1,0,2).shape, x.permute(1,0,2)"
      ]
    },
    {
      "cell_type": "code",
      "execution_count": 9,
      "metadata": {},
      "outputs": [
        {
          "data": {
            "text/plain": [
              "(torch.Size([4, 3, 2]),\n",
              " tensor([[[ 0, 12],\n",
              "          [ 4, 16],\n",
              "          [ 8, 20]],\n",
              " \n",
              "         [[ 1, 13],\n",
              "          [ 5, 17],\n",
              "          [ 9, 21]],\n",
              " \n",
              "         [[ 2, 14],\n",
              "          [ 6, 18],\n",
              "          [10, 22]],\n",
              " \n",
              "         [[ 3, 15],\n",
              "          [ 7, 19],\n",
              "          [11, 23]]]))"
            ]
          },
          "execution_count": 9,
          "metadata": {},
          "output_type": "execute_result"
        }
      ],
      "source": [
        "x.permute(2,1,0).shape, x.permute(2,1,0)"
      ]
    },
    {
      "cell_type": "code",
      "execution_count": 10,
      "metadata": {},
      "outputs": [
        {
          "data": {
            "text/plain": [
              "(torch.Size([4, 2, 3]),\n",
              " tensor([[[ 0,  4,  8],\n",
              "          [12, 16, 20]],\n",
              " \n",
              "         [[ 1,  5,  9],\n",
              "          [13, 17, 21]],\n",
              " \n",
              "         [[ 2,  6, 10],\n",
              "          [14, 18, 22]],\n",
              " \n",
              "         [[ 3,  7, 11],\n",
              "          [15, 19, 23]]]))"
            ]
          },
          "execution_count": 10,
          "metadata": {},
          "output_type": "execute_result"
        }
      ],
      "source": [
        "x.permute(2,0,1).shape, x.permute(2,0,1)"
      ]
    }
  ],
  "metadata": {
    "colab": {
      "provenance": []
    },
    "kernelspec": {
      "display_name": "Python 3",
      "name": "python3"
    },
    "language_info": {
      "codemirror_mode": {
        "name": "ipython",
        "version": 3
      },
      "file_extension": ".py",
      "mimetype": "text/x-python",
      "name": "python",
      "nbconvert_exporter": "python",
      "pygments_lexer": "ipython3",
      "version": "3.8.18"
    }
  },
  "nbformat": 4,
  "nbformat_minor": 0
}
