{
  "cells": [
    {
      "cell_type": "code",
      "execution_count": 384,
      "metadata": {},
      "outputs": [],
      "source": [
        "import torch\n",
        "import torch.nn as nn\n",
        "import torch.nn.functional as F\n"
      ]
    },
    {
      "cell_type": "code",
      "execution_count": 385,
      "metadata": {},
      "outputs": [
        {
          "name": "stdout",
          "output_type": "stream",
          "text": [
            "tensor(1.7352, grad_fn=<NegBackward0>)\n"
          ]
        }
      ],
      "source": [
        "torch.manual_seed(1)\n",
        "n_classes = 5\n",
        "y = torch.randint(0, n_classes, (4,))\n",
        "window_size = 4\n",
        "# y = F.one_hot(y, num_classes=10)\n",
        "\n",
        "x = torch.rand(window_size,2)\n",
        "w = torch.rand(2,n_classes,requires_grad=True)\n",
        "x_1 = x @ w\n",
        "\n",
        "# Softmax\n",
        "# x = F.softmax(x,dim=1)\n",
        "x_1_exp =  x_1.exp()\n",
        "probs = x_1_exp/x_1_exp.sum(dim=1).unsqueeze(1)\n",
        "loss = -probs[torch.arange(window_size), y].log().mean()\n",
        "print(loss)\n",
        "loss.backward()\n",
        "\n",
        "for t in [probs,w]:\n",
        "  t.retain_grad()"
      ]
    },
    {
      "cell_type": "code",
      "execution_count": 386,
      "metadata": {},
      "outputs": [
        {
          "data": {
            "text/plain": [
              "tensor([[ 0.0814,  0.0924,  0.0859, -0.0889, -0.1708],\n",
              "        [-0.0688,  0.1538,  0.1344, -0.0244, -0.1950]])"
            ]
          },
          "execution_count": 386,
          "metadata": {},
          "output_type": "execute_result"
        }
      ],
      "source": [
        "w_gradient = torch.clone(w._grad)\n",
        "w_gradient"
      ]
    },
    {
      "cell_type": "markdown",
      "metadata": {},
      "source": [
        "### Gradient Descent"
      ]
    },
    {
      "cell_type": "code",
      "execution_count": 387,
      "metadata": {},
      "outputs": [],
      "source": [
        "lr = 0.01\n",
        "w = w -  lr * w_gradient"
      ]
    },
    {
      "cell_type": "markdown",
      "metadata": {},
      "source": [
        "### Gradient Descent with Momentum"
      ]
    },
    {
      "cell_type": "code",
      "execution_count": 388,
      "metadata": {},
      "outputs": [],
      "source": [
        "v = torch.zeros_like(w).float()\n",
        "lr = 0.01\n",
        "beta = 0.99\n",
        "\n",
        "v = beta* v + (1.0-beta)  * w_gradient\n",
        "w = w - lr * v"
      ]
    },
    {
      "cell_type": "markdown",
      "metadata": {},
      "source": [
        "### Adagrad"
      ]
    },
    {
      "cell_type": "code",
      "execution_count": 389,
      "metadata": {},
      "outputs": [],
      "source": [
        "v = torch.zeros_like(w).float()\n",
        "lr = 0.01\n",
        "epsilon = 0.99\n",
        "\n",
        "v = v  + w_gradient**2\n",
        "w = w - (lr/(v**0.5+epsilon ))* v"
      ]
    },
    {
      "cell_type": "markdown",
      "metadata": {},
      "source": [
        "### RMSProp - Root Mean Square Propagation"
      ]
    },
    {
      "cell_type": "code",
      "execution_count": 390,
      "metadata": {},
      "outputs": [],
      "source": [
        "v = torch.zeros_like(w).float()\n",
        "\n",
        "lr = 0.01\n",
        "epsilon = 0.99\n",
        "beta = 0.99\n",
        "\n",
        "v = beta * v  + ( 1- beta ) * w_gradient**2\n",
        "w = w - (lr/(v**0.5+epsilon ))* w_gradient"
      ]
    },
    {
      "cell_type": "markdown",
      "metadata": {},
      "source": [
        "### Adam"
      ]
    },
    {
      "cell_type": "code",
      "execution_count": 391,
      "metadata": {},
      "outputs": [],
      "source": [
        "beta_1 = 0.99\n",
        "beta_2 = 0.99\n",
        "step_no = 1.\n",
        "epsilon = 0.99\n",
        "\n",
        "m = torch.zeros_like(w).float()\n",
        "v = torch.zeros_like(w).float()\n",
        "\n",
        "m = beta_1 * m + ( 1 - beta_1 ) * w_gradient\n",
        "v = beta_2 * v + ( 1 - beta_2 ) * w_gradient ** 2\n",
        "\n",
        "m_hat = m / (1 - beta_1**step_no)\n",
        "v_hat = v / (1 - beta_2**step_no)\n",
        "\n",
        "w = w - (lr*m_hat/v_hat**0.5+epsilon)*w_gradient"
      ]
    }
  ],
  "metadata": {
    "colab": {
      "provenance": []
    },
    "kernelspec": {
      "display_name": "Python 3",
      "name": "python3"
    },
    "language_info": {
      "codemirror_mode": {
        "name": "ipython",
        "version": 3
      },
      "file_extension": ".py",
      "mimetype": "text/x-python",
      "name": "python",
      "nbconvert_exporter": "python",
      "pygments_lexer": "ipython3",
      "version": "3.8.18"
    }
  },
  "nbformat": 4,
  "nbformat_minor": 0
}
