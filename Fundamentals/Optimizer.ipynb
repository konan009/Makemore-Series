{
  "cells": [
    {
      "cell_type": "code",
      "execution_count": 71,
      "metadata": {},
      "outputs": [],
      "source": [
        "import torch\n",
        "import torch.nn as nn\n",
        "import torch.nn.functional as F\n",
        "import torch.optim as optim"
      ]
    },
    {
      "cell_type": "code",
      "execution_count": 72,
      "metadata": {},
      "outputs": [
        {
          "name": "stdout",
          "output_type": "stream",
          "text": [
            "tensor(1.7352, grad_fn=<NegBackward0>)\n"
          ]
        }
      ],
      "source": [
        "torch.manual_seed(1)\n",
        "n_classes = 5\n",
        "y = torch.randint(0, n_classes, (4,))\n",
        "window_size = 4\n",
        "# y = F.one_hot(y, num_classes=10)\n",
        "\n",
        "x = torch.rand(window_size,2)\n",
        "w = torch.rand(2,n_classes,requires_grad=True)\n",
        "x_1 = x @ w\n",
        "\n",
        "# Softmax\n",
        "# x = F.softmax(x,dim=1)\n",
        "x_1_exp =  x_1.exp()\n",
        "probs = x_1_exp/x_1_exp.sum(dim=1).unsqueeze(1)\n",
        "loss = -probs[torch.arange(window_size), y].log().mean()\n",
        "print(loss)\n",
        "loss.backward()\n",
        "\n",
        "for t in [probs,w]:\n",
        "  t.retain_grad()"
      ]
    },
    {
      "cell_type": "code",
      "execution_count": 73,
      "metadata": {},
      "outputs": [
        {
          "data": {
            "text/plain": [
              "tensor([[ 0.0814,  0.0924,  0.0859, -0.0889, -0.1708],\n",
              "        [-0.0688,  0.1538,  0.1344, -0.0244, -0.1950]])"
            ]
          },
          "execution_count": 73,
          "metadata": {},
          "output_type": "execute_result"
        }
      ],
      "source": [
        "w_gradient = torch.clone(w._grad)\n",
        "w_gradient"
      ]
    },
    {
      "cell_type": "markdown",
      "metadata": {},
      "source": [
        "### Gradient Descent"
      ]
    },
    {
      "cell_type": "code",
      "execution_count": 74,
      "metadata": {},
      "outputs": [],
      "source": [
        "lr = 0.01\n",
        "w = w -  lr * w_gradient"
      ]
    },
    {
      "cell_type": "markdown",
      "metadata": {},
      "source": [
        "### Gradient Descent with Momentum"
      ]
    },
    {
      "cell_type": "code",
      "execution_count": 75,
      "metadata": {},
      "outputs": [],
      "source": [
        "v = torch.zeros_like(w).float()\n",
        "lr = 0.1\n",
        "beta = 0.99\n",
        "\n",
        "v = beta* v + (1.0-beta)  * w_gradient\n",
        "w = w - lr * v\n"
      ]
    },
    {
      "cell_type": "markdown",
      "metadata": {},
      "source": [
        "### Adaptive Gradient Algorithm (AdaGrad)"
      ]
    },
    {
      "cell_type": "code",
      "execution_count": 76,
      "metadata": {},
      "outputs": [],
      "source": [
        "v = torch.zeros_like(w).float()\n",
        "lr = 0.01\n",
        "epsilon = 0.99\n",
        "\n",
        "v = v  + w_gradient**2\n",
        "w = w - (lr/(v**0.5+epsilon ))* v"
      ]
    },
    {
      "cell_type": "code",
      "execution_count": 77,
      "metadata": {},
      "outputs": [
        {
          "name": "stdout",
          "output_type": "stream",
          "text": [
            "Parameter containing:\n",
            "tensor([[-0.0114,  0.4578, -0.0512],\n",
            "        [ 0.1528, -0.1745, -0.1135],\n",
            "        [-0.5516, -0.3824, -0.2380]], requires_grad=True)\n",
            "Manual Result from the Update\n",
            "tensor([[-0.1114,  0.3578, -0.1512],\n",
            "        [ 0.0528, -0.2745, -0.2135],\n",
            "        [-0.4516, -0.2824, -0.1380]])\n",
            "Update from the pytorch optimizer\n",
            "Parameter containing:\n",
            "tensor([[-0.1114,  0.3578, -0.1512],\n",
            "        [ 0.0528, -0.2745, -0.2135],\n",
            "        [-0.4516, -0.2824, -0.1380]], requires_grad=True)\n"
          ]
        }
      ],
      "source": [
        "def ManualAdaGrad(learning_rate,parameter):\n",
        "    with torch.no_grad():\n",
        "        w = parameter.weight\n",
        "        grad = parameter.weight.grad\n",
        "        grad_squared = grad**2\n",
        "        epsilon = 1e-8\n",
        "\n",
        "        adjusted_lr = learning_rate / torch.sqrt(grad_squared + epsilon)\n",
        "        new_weight = w - adjusted_lr * grad\n",
        "        print(\"Manual Result from the Update\")\n",
        "        print(new_weight)\n",
        "\n",
        "\n",
        "torch.manual_seed(0)\n",
        "x = torch.rand(2,3)\n",
        "y = torch.tensor([5])\n",
        "loss_fn = nn.CrossEntropyLoss()\n",
        "\n",
        "linear = nn.Linear(3,3)\n",
        "learning_rate = 0.1\n",
        "optimizer = optim.Adagrad(linear.parameters(), lr=learning_rate)\n",
        "\n",
        "print(linear.weight)\n",
        "x = linear(x)\n",
        "x = x.flatten().unsqueeze(0)\n",
        "loss = loss_fn(x, y)\n",
        "loss.backward()\n",
        "ManualAdaGrad(learning_rate,linear)\n",
        "optimizer.step()\n",
        "\n",
        "print(\"Update from the pytorch optimizer\")\n",
        "print(linear.weight)\n"
      ]
    },
    {
      "cell_type": "markdown",
      "metadata": {},
      "source": [
        "### RMSProp - Root Mean Square Propagation"
      ]
    },
    {
      "cell_type": "code",
      "execution_count": 78,
      "metadata": {},
      "outputs": [
        {
          "name": "stdout",
          "output_type": "stream",
          "text": [
            "Parameter containing:\n",
            "tensor([[-0.0114,  0.4578, -0.0512],\n",
            "        [ 0.1528, -0.1745, -0.1135],\n",
            "        [-0.5516, -0.3824, -0.2380]], requires_grad=True)\n",
            "Manual Result from the Update\n",
            "tensor([[-1.0114, -0.5422, -1.0512],\n",
            "        [-0.8472, -1.1745, -1.1135],\n",
            "        [ 0.4483,  0.6176,  0.7620]])\n",
            "Update from the pytorch optimizer\n",
            "Parameter containing:\n",
            "tensor([[-1.0114, -0.5422, -1.0512],\n",
            "        [-0.8472, -1.1745, -1.1135],\n",
            "        [ 0.4484,  0.6176,  0.7620]], requires_grad=True)\n"
          ]
        }
      ],
      "source": [
        "def ManualRmsProp(learning_rate,parameter):\n",
        "    with torch.no_grad():\n",
        "        w = parameter.weight.clone().detach()\n",
        "        grad = parameter.weight.grad.clone().detach()\n",
        "\n",
        "\n",
        "        epsilon = 1e-8\n",
        "        beta = 0.99\n",
        "        v = torch.zeros_like(w).float()\n",
        "\n",
        "        v = beta * v  + ( 1- beta ) * grad**2\n",
        "        w = w - (learning_rate *( v+epsilon )**-0.5 ) * grad\n",
        "        print(\"Manual Result from the Update\")\n",
        "        print(w)\n",
        "\n",
        "\n",
        "torch.manual_seed(0)\n",
        "x = torch.rand(2,3)\n",
        "y = torch.tensor([5])\n",
        "loss_fn = nn.CrossEntropyLoss()\n",
        "\n",
        "linear = nn.Linear(3,3)\n",
        "learning_rate = 0.1\n",
        "optimizer = optim.RMSprop(linear.parameters(), lr=learning_rate)\n",
        "\n",
        "print(linear.weight)\n",
        "x = linear(x)\n",
        "x = x.flatten().unsqueeze(0)\n",
        "loss = loss_fn(x, y)\n",
        "loss.backward()\n",
        "ManualRmsProp(learning_rate,linear)\n",
        "optimizer.step()\n",
        "\n",
        "print(\"Update from the pytorch optimizer\")\n",
        "print(linear.weight)\n"
      ]
    },
    {
      "cell_type": "markdown",
      "metadata": {},
      "source": [
        "### Adaptive Moment Estimation"
      ]
    },
    {
      "cell_type": "code",
      "execution_count": 83,
      "metadata": {},
      "outputs": [
        {
          "name": "stdout",
          "output_type": "stream",
          "text": [
            "Parameter containing:\n",
            "tensor([[-0.0114,  0.4578, -0.0512],\n",
            "        [ 0.1528, -0.1745, -0.1135],\n",
            "        [-0.5516, -0.3824, -0.2380]], requires_grad=True)\n",
            "Manual Update\n",
            "tensor([[-0.1114,  0.3578, -0.1512],\n",
            "        [ 0.0528, -0.2745, -0.2135],\n",
            "        [-0.4516, -0.2824, -0.1380]])\n",
            "Update from the pytorch optimizer\n",
            "Parameter containing:\n",
            "tensor([[-0.1114,  0.3578, -0.1512],\n",
            "        [ 0.0528, -0.2745, -0.2135],\n",
            "        [-0.4516, -0.2824, -0.1380]], requires_grad=True)\n"
          ]
        }
      ],
      "source": [
        "def ManualAdamGrad(parameter):\n",
        "    with torch.no_grad():\n",
        "        beta_1 = 0.9\n",
        "        beta_2 = 0.999\n",
        "        step_no = 1.\n",
        "        epsilon = 1e-8\n",
        "        lr = 0.1\n",
        "\n",
        "        w = parameter.weight.clone().detach()\n",
        "        grad = parameter.weight.grad.clone().detach()\n",
        "\n",
        "        m = torch.zeros_like(w).float()\n",
        "        v = torch.zeros_like(w).float()\n",
        "\n",
        "        m = beta_1 * m + ( 1. - beta_1 ) * grad\n",
        "        v = beta_2 * v + ( 1. - beta_2 ) * grad ** 2\n",
        "\n",
        "        m_hat = m / (1 - beta_1**step_no)\n",
        "        v_hat = v / (1 - beta_2**step_no)\n",
        "\n",
        "        adjusted = lr * m_hat * (v_hat+epsilon)**-0.5\n",
        "        w -= adjusted\n",
        "        print(\"Manual Update\")\n",
        "        print(w)\n",
        "\n",
        "\n",
        "\n",
        "torch.manual_seed(0)\n",
        "x = torch.rand(2,3)\n",
        "y = torch.tensor([5])\n",
        "loss_fn = nn.CrossEntropyLoss()\n",
        "\n",
        "linear = nn.Linear(3,3)\n",
        "lr = 0.1\n",
        "optimizer = optim.Adam(linear.parameters(), lr=lr)\n",
        "\n",
        "print(linear.weight)\n",
        "x = linear(x)\n",
        "x = x.flatten().unsqueeze(0)\n",
        "loss = loss_fn(x, y)\n",
        "loss.backward()\n",
        "ManualAdamGrad(linear)\n",
        "optimizer.step()\n",
        "\n",
        "print(\"Update from the pytorch optimizer\")\n",
        "print(linear.weight)\n"
      ]
    }
  ],
  "metadata": {
    "colab": {
      "provenance": []
    },
    "kernelspec": {
      "display_name": "Python 3",
      "name": "python3"
    },
    "language_info": {
      "codemirror_mode": {
        "name": "ipython",
        "version": 3
      },
      "file_extension": ".py",
      "mimetype": "text/x-python",
      "name": "python",
      "nbconvert_exporter": "python",
      "pygments_lexer": "ipython3",
      "version": "3.8.18"
    }
  },
  "nbformat": 4,
  "nbformat_minor": 0
}
