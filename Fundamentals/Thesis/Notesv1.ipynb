{
  "cells": [
    {
      "cell_type": "code",
      "execution_count": 51,
      "metadata": {},
      "outputs": [],
      "source": [
        "import os\n",
        "import argparse\n",
        "import math\n",
        "import torch\n",
        "import torchvision\n",
        "from torch.utils.tensorboard import SummaryWriter\n",
        "from torchvision.transforms import ToTensor, Compose, Normalize\n",
        "from tqdm import tqdm\n",
        "from einops import repeat, rearrange\n",
        "from model import *\n",
        "\n",
        "import torch\n",
        "import numpy as np\n",
        "import random"
      ]
    },
    {
      "cell_type": "code",
      "execution_count": 52,
      "metadata": {},
      "outputs": [
        {
          "name": "stdout",
          "output_type": "stream",
          "text": [
            "torch.Size([4, 2, 10])\n",
            "torch.Size([64, 10, 192]) torch.Size([1, 10, 192])\n",
            "torch.Size([65, 10, 192])\n"
          ]
        }
      ],
      "source": [
        "import torch\n",
        "import timm\n",
        "import numpy as np\n",
        "\n",
        "from einops import repeat, rearrange\n",
        "from einops.layers.torch import Rearrange\n",
        "\n",
        "from timm.models.layers import trunc_normal_\n",
        "from timm.models.vision_transformer import Block\n",
        "\n",
        "def random_indexes(size : int):\n",
        "    forward_indexes = np.arange(size)\n",
        "    np.random.shuffle(forward_indexes)\n",
        "    backward_indexes = np.argsort(forward_indexes)\n",
        "    return forward_indexes, backward_indexes\n",
        "\n",
        "def take_indexes(sequences, indexes):\n",
        "    return torch.gather(sequences, 0, repeat(indexes, 't b -> t b c', c=sequences.shape[-1]))\n",
        "\n",
        "class PatchShuffle(torch.nn.Module):\n",
        "    def __init__(self, ratio) -> None:\n",
        "        super().__init__()\n",
        "        self.ratio = ratio\n",
        "\n",
        "    def forward(self, patches : torch.Tensor):\n",
        "        T, B, C = patches.shape\n",
        "        remain_T = int(T * (1 - self.ratio))\n",
        "\n",
        "        indexes = [random_indexes(T) for _ in range(B)]\n",
        "        forward_indexes = torch.as_tensor(np.stack([i[0] for i in indexes], axis=-1), dtype=torch.long).to(patches.device)\n",
        "        backward_indexes = torch.as_tensor(np.stack([i[1] for i in indexes], axis=-1), dtype=torch.long).to(patches.device)\n",
        "\n",
        "        patches = take_indexes(patches, forward_indexes)\n",
        "        patches = patches[:remain_T]\n",
        "\n",
        "        return patches, forward_indexes, backward_indexes\n",
        "\n",
        "class MAE_Encoder(torch.nn.Module):\n",
        "    def __init__(self,\n",
        "                 image_size=32,\n",
        "                 patch_size=2,\n",
        "                 emb_dim=192,\n",
        "                 num_layer=12,\n",
        "                 num_head=3,\n",
        "                 mask_ratio=0.75,\n",
        "                 ) -> None:\n",
        "        super().__init__()\n",
        "\n",
        "        self.cls_token = torch.nn.Parameter(torch.zeros(1, 1, emb_dim))\n",
        "        self.pos_embedding = torch.nn.Parameter(torch.zeros((image_size // patch_size) ** 2, 1, emb_dim))\n",
        "        self.shuffle = PatchShuffle(mask_ratio)\n",
        "\n",
        "        self.patchify = torch.nn.Conv2d(3, emb_dim, patch_size, patch_size)\n",
        "        self.transformer = torch.nn.Sequential(*[Block(emb_dim, num_head) for _ in range(num_layer)])\n",
        "        self.layer_norm = torch.nn.LayerNorm(emb_dim)\n",
        "\n",
        "        self.init_weight()\n",
        "\n",
        "    def init_weight(self):\n",
        "        trunc_normal_(self.cls_token, std=.02)\n",
        "        trunc_normal_(self.pos_embedding, std=.02)\n",
        "\n",
        "    def forward(self, img):\n",
        "        patches = self.patchify(img)\n",
        "        patches = rearrange(patches, 'b c h w -> (h w) b c')\n",
        "        patches = patches + self.pos_embedding\n",
        "        patches, forward_indexes, backward_indexes = self.shuffle(patches)\n",
        "        print(patches.shape, self.cls_token.expand(-1, patches.shape[1], -1).shape)\n",
        "        patches = torch.cat([self.cls_token.expand(-1, patches.shape[1], -1), patches], dim=0)\n",
        "        print(patches.shape)\n",
        "        patches = rearrange(patches, 't b c -> b t c')\n",
        "        features = self.layer_norm(self.transformer(patches))\n",
        "        features = rearrange(features, 'b t c -> t b c')\n",
        "\n",
        "        return features, backward_indexes\n",
        "\n",
        "class MAE_Decoder(torch.nn.Module):\n",
        "    def __init__(self,\n",
        "                 image_size=32,\n",
        "                 patch_size=2,\n",
        "                 emb_dim=192,\n",
        "                 num_layer=4,\n",
        "                 num_head=3,\n",
        "                 ) -> None:\n",
        "        super().__init__()\n",
        "\n",
        "        self.mask_token = torch.nn.Parameter(torch.zeros(1, 1, emb_dim))\n",
        "        self.pos_embedding = torch.nn.Parameter(torch.zeros((image_size // patch_size) ** 2 + 1, 1, emb_dim))\n",
        "        self.transformer = torch.nn.Sequential(*[Block(emb_dim, num_head) for _ in range(num_layer)])\n",
        "        self.head = torch.nn.Linear(emb_dim, 3 * patch_size ** 2)\n",
        "        self.patch2img = Rearrange('(h w) b (c p1 p2) -> b c (h p1) (w p2)', p1=patch_size, p2=patch_size, h=image_size//patch_size)\n",
        "\n",
        "        self.init_weight()\n",
        "\n",
        "    def init_weight(self):\n",
        "        trunc_normal_(self.mask_token, std=.02)\n",
        "        trunc_normal_(self.pos_embedding, std=.02)\n",
        "\n",
        "    def forward(self, features, backward_indexes):\n",
        "        T = features.shape[0]\n",
        "        backward_indexes = torch.cat([torch.zeros(1, backward_indexes.shape[1]).to(backward_indexes), backward_indexes + 1], dim=0)\n",
        "        features = torch.cat([features, self.mask_token.expand(backward_indexes.shape[0] - features.shape[0], features.shape[1], -1)], dim=0)\n",
        "        features = take_indexes(features, backward_indexes)\n",
        "        features = features + self.pos_embedding\n",
        "\n",
        "        features = rearrange(features, 't b c -> b t c')\n",
        "        features = self.transformer(features)\n",
        "        features = rearrange(features, 'b t c -> t b c')\n",
        "        features = features[1:] # remove global feature\n",
        "\n",
        "        patches = self.head(features)\n",
        "        mask = torch.zeros_like(patches)\n",
        "        mask[T-1:] = 1\n",
        "        mask = take_indexes(mask, backward_indexes[1:] - 1)\n",
        "        img = self.patch2img(patches)\n",
        "        mask = self.patch2img(mask)\n",
        "\n",
        "        return img, mask\n",
        "\n",
        "class MAE_ViT(torch.nn.Module):\n",
        "    def __init__(self,\n",
        "                 image_size=32,\n",
        "                 patch_size=2,\n",
        "                 emb_dim=192,\n",
        "                 encoder_layer=12,\n",
        "                 encoder_head=3,\n",
        "                 decoder_layer=4,\n",
        "                 decoder_head=3,\n",
        "                 mask_ratio=0.75,\n",
        "                 ) -> None:\n",
        "        super().__init__()\n",
        "\n",
        "        self.encoder = MAE_Encoder(image_size, patch_size, emb_dim, encoder_layer, encoder_head, mask_ratio)\n",
        "        self.decoder = MAE_Decoder(image_size, patch_size, emb_dim, decoder_layer, decoder_head)\n",
        "\n",
        "    def forward(self, img):\n",
        "        features, backward_indexes = self.encoder(img)\n",
        "        predicted_img, mask = self.decoder(features,  backward_indexes)\n",
        "        return predicted_img, mask\n",
        "\n",
        "class ViT_Classifier(torch.nn.Module):\n",
        "    def __init__(self, encoder : MAE_Encoder, num_classes=10) -> None:\n",
        "        super().__init__()\n",
        "        self.cls_token = encoder.cls_token\n",
        "        self.pos_embedding = encoder.pos_embedding\n",
        "        self.patchify = encoder.patchify\n",
        "        self.transformer = encoder.transformer\n",
        "        self.layer_norm = encoder.layer_norm\n",
        "        self.head = torch.nn.Linear(self.pos_embedding.shape[-1], num_classes)\n",
        "\n",
        "    def forward(self, img):\n",
        "        patches = self.patchify(img)\n",
        "        patches = rearrange(patches, 'b c h w -> (h w) b c')\n",
        "        patches = patches + self.pos_embedding\n",
        "        patches = torch.cat([self.cls_token.expand(-1, patches.shape[1], -1), patches], dim=0)\n",
        "        patches = rearrange(patches, 't b c -> b t c')\n",
        "        features = self.layer_norm(self.transformer(patches))\n",
        "        features = rearrange(features, 'b t c -> t b c')\n",
        "        logits = self.head(features[0])\n",
        "        return logits\n",
        "\n",
        "\n",
        "if __name__ == '__main__':\n",
        "    shuffle = PatchShuffle(0.75)\n",
        "    a = torch.rand(16, 2, 10)\n",
        "    b, forward_indexes, backward_indexes = shuffle(a)\n",
        "    print(b.shape)\n",
        "\n",
        "    img = torch.rand(10, 3, 32, 32)\n",
        "    model = MAE_ViT()\n",
        "    features, backward_indexes = model(img)\n",
        "    # encoder = MAE_Encoder()\n",
        "    # decoder = MAE_Decoder()\n",
        "    # features, backward_indexes = encoder(img)\n",
        "    # print(forward_indexes.shape)\n",
        "    # predicted_img, mask = decoder(features, backward_indexes)\n",
        "    # print(predicted_img.shape)\n",
        "    # loss = torch.mean((predicted_img - img) ** 2 * mask / 0.75)\n",
        "    # print(loss)"
      ]
    },
    {
      "cell_type": "code",
      "execution_count": 53,
      "metadata": {},
      "outputs": [],
      "source": [
        "def setup_seed(seed=42):\n",
        "    torch.manual_seed(seed)\n",
        "    torch.cuda.manual_seed_all(seed)\n",
        "    np.random.seed(seed)\n",
        "    random.seed(seed)\n",
        "    torch.backends.cudnn.deterministic = True"
      ]
    },
    {
      "cell_type": "code",
      "execution_count": 54,
      "metadata": {},
      "outputs": [
        {
          "name": "stdout",
          "output_type": "stream",
          "text": [
            "Files already downloaded and verified\n",
            "Files already downloaded and verified\n"
          ]
        }
      ],
      "source": [
        "class Settings:\n",
        "    def __init__(self):\n",
        "        self.seed = 42\n",
        "        self.batch_size = 128\n",
        "        self.max_device_batch_size=256\n",
        "        self.base_learning_rate=1e-3\n",
        "        self.weight_decay=0.05\n",
        "        self.total_epoch=1\n",
        "        self.warmup_epoch=5\n",
        "        self.pretrained_model_path =None\n",
        "\n",
        "args = Settings()\n",
        "\n",
        "batch_size = args.batch_size\n",
        "load_batch_size = min(args.max_device_batch_size, batch_size)\n",
        "\n",
        "assert batch_size % load_batch_size == 0\n",
        "steps_per_update = batch_size // load_batch_size\n",
        "\n",
        "train_dataset = torchvision.datasets.CIFAR10('data', train=True, download=True, transform=Compose([ToTensor(), Normalize(0.5, 0.5)]))\n",
        "val_dataset = torchvision.datasets.CIFAR10('data', train=False, download=True, transform=Compose([ToTensor(), Normalize(0.5, 0.5)]))\n",
        "train_dataloader = torch.utils.data.DataLoader(train_dataset, load_batch_size, shuffle=True, num_workers=4)\n",
        "val_dataloader = torch.utils.data.DataLoader(val_dataset, load_batch_size, shuffle=False, num_workers=4)\n",
        "device = 'cuda' if torch.cuda.is_available() else 'cpu'\n",
        "\n",
        "if args.pretrained_model_path is not None:\n",
        "    model = torch.load(args.pretrained_model_path, map_location='cpu')\n",
        "    writer = SummaryWriter(os.path.join('logs', 'cifar10', 'pretrain-cls'))\n",
        "else:\n",
        "    model = MAE_ViT()\n",
        "    writer = SummaryWriter(os.path.join('logs', 'cifar10', 'scratch-cls'))\n",
        "    \n",
        "model = ViT_Classifier(model.encoder, num_classes=10).to(device)\n"
      ]
    },
    {
      "cell_type": "code",
      "execution_count": 55,
      "metadata": {},
      "outputs": [
        {
          "name": "stdout",
          "output_type": "stream",
          "text": [
            "torch.Size([128, 3, 32, 32])\n"
          ]
        }
      ],
      "source": [
        "x, y = next(iter(train_dataloader))\n",
        "x = x.to(device)\n",
        "logits = model(x)\n",
        "print(x.shape)"
      ]
    },
    {
      "cell_type": "code",
      "execution_count": 56,
      "metadata": {},
      "outputs": [
        {
          "data": {
            "text/plain": [
              "torch.Size([257, 1, 192])"
            ]
          },
          "execution_count": 56,
          "metadata": {},
          "output_type": "execute_result"
        }
      ],
      "source": [
        "image_size=32\n",
        "patch_size=2\n",
        "emb_dim=192\n",
        "num_layer=12\n",
        "num_head=3\n",
        "mask_ratio=0.75\n",
        "\n",
        "class PatchShuffle(torch.nn.Module):\n",
        "    def __init__(self, ratio) -> None:\n",
        "        super().__init__()\n",
        "        self.ratio = ratio\n",
        "\n",
        "    def forward(self, patches : torch.Tensor):\n",
        "        T, B, C = patches.shape\n",
        "        remain_T = int(T * (1 - self.ratio))\n",
        "\n",
        "        indexes = [random_indexes(T) for _ in range(B)]\n",
        "        forward_indexes = torch.as_tensor(np.stack([i[0] for i in indexes], axis=-1), dtype=torch.long).to(patches.device)\n",
        "        backward_indexes = torch.as_tensor(np.stack([i[1] for i in indexes], axis=-1), dtype=torch.long).to(patches.device)\n",
        "\n",
        "        patches = take_indexes(patches, forward_indexes)\n",
        "        patches = patches[:remain_T]\n",
        "\n",
        "        return patches, forward_indexes, backward_indexes\n",
        "    \n",
        "pos_embedding = torch.nn.Parameter(torch.zeros((image_size // patch_size) ** 2 + 1, 1, emb_dim))\n",
        "pos_embedding.shape"
      ]
    },
    {
      "cell_type": "code",
      "execution_count": 57,
      "metadata": {},
      "outputs": [],
      "source": [
        "torch.manual_seed(0)\n",
        "\n",
        "first_conv = torch.nn.Conv2d(in_channels = 3, out_channels = 192, kernel_size = 2, stride = 2)\n",
        "x_input = torch.rand(10, 3, 32, 32)\n"
      ]
    },
    {
      "cell_type": "code",
      "execution_count": 58,
      "metadata": {},
      "outputs": [
        {
          "name": "stdout",
          "output_type": "stream",
          "text": [
            "torch.Size([10, 192, 16, 16])\n",
            "torch.Size([256, 10, 192])\n"
          ]
        }
      ],
      "source": [
        "x = first_conv(x_input)\n",
        "print(x.shape)\n",
        "patches = rearrange(x, 'b c h w -> (h w) b c')\n",
        "print(patches.shape)"
      ]
    },
    {
      "cell_type": "code",
      "execution_count": 59,
      "metadata": {},
      "outputs": [
        {
          "data": {
            "text/plain": [
              "torch.Size([256, 1, 192])"
            ]
          },
          "execution_count": 59,
          "metadata": {},
          "output_type": "execute_result"
        }
      ],
      "source": [
        "image_size=32\n",
        "patch_size=2\n",
        "emb_dim=192\n",
        "num_layer=12\n",
        "num_head=3\n",
        "mask_ratio=0.75\n",
        "\n",
        "shuffle = PatchShuffle(mask_ratio)\n",
        "pos_embedding = torch.nn.Parameter(torch.zeros((image_size // patch_size) ** 2, 1, emb_dim))\n",
        "pos_embedding.shape"
      ]
    },
    {
      "cell_type": "code",
      "execution_count": 60,
      "metadata": {},
      "outputs": [],
      "source": [
        "patches = patches + pos_embedding"
      ]
    },
    {
      "cell_type": "code",
      "execution_count": 61,
      "metadata": {},
      "outputs": [
        {
          "data": {
            "text/plain": [
              "torch.Size([256, 10, 192])"
            ]
          },
          "execution_count": 61,
          "metadata": {},
          "output_type": "execute_result"
        }
      ],
      "source": [
        "patches.shape"
      ]
    },
    {
      "cell_type": "code",
      "execution_count": 62,
      "metadata": {},
      "outputs": [],
      "source": [
        "output, forward_indexes, backward_indexes = shuffle(patches)"
      ]
    },
    {
      "cell_type": "code",
      "execution_count": 63,
      "metadata": {},
      "outputs": [
        {
          "data": {
            "text/plain": [
              "torch.Size([64, 10, 192])"
            ]
          },
          "execution_count": 63,
          "metadata": {},
          "output_type": "execute_result"
        }
      ],
      "source": [
        "output.shape"
      ]
    },
    {
      "cell_type": "code",
      "execution_count": 64,
      "metadata": {},
      "outputs": [
        {
          "data": {
            "text/plain": [
              "torch.Size([256, 10, 192])"
            ]
          },
          "execution_count": 64,
          "metadata": {},
          "output_type": "execute_result"
        }
      ],
      "source": [
        "patches.shape"
      ]
    },
    {
      "cell_type": "code",
      "execution_count": 65,
      "metadata": {},
      "outputs": [
        {
          "data": {
            "text/plain": [
              "torch.Size([10, 4, 6])"
            ]
          },
          "execution_count": 65,
          "metadata": {},
          "output_type": "execute_result"
        }
      ],
      "source": [
        "X = 10\n",
        "Y = 4\n",
        "Z = 6\n",
        "\n",
        "x = torch.zeros(X,Y,Z)\n",
        "pos = torch.arange(0,X*Z).view(X,1,Z)\n",
        "\n",
        "# x =  torch.arange(0,X*Z*Y).view(X,Y,Z)\n",
        "# pos = torch.zeros(X,1,Z)\n",
        "\n",
        "x.shape, pos.shape\n",
        "result = x + pos\n",
        "X,Y,Z =  result.shape\n",
        "\n",
        "result.shape"
      ]
    },
    {
      "cell_type": "code",
      "execution_count": 66,
      "metadata": {},
      "outputs": [
        {
          "data": {
            "text/plain": [
              "tensor([[[[ 0,  1,  2],\n",
              "          [ 3,  4,  5],\n",
              "          [ 6,  7,  8]],\n",
              "\n",
              "         [[ 9, 10, 11],\n",
              "          [12, 13, 14],\n",
              "          [15, 16, 17]],\n",
              "\n",
              "         [[18, 19, 20],\n",
              "          [21, 22, 23],\n",
              "          [24, 25, 26]]],\n",
              "\n",
              "\n",
              "        [[[27, 28, 29],\n",
              "          [30, 31, 32],\n",
              "          [33, 34, 35]],\n",
              "\n",
              "         [[36, 37, 38],\n",
              "          [39, 40, 41],\n",
              "          [42, 43, 44]],\n",
              "\n",
              "         [[45, 46, 47],\n",
              "          [48, 49, 50],\n",
              "          [51, 52, 53]]]])"
            ]
          },
          "execution_count": 66,
          "metadata": {},
          "output_type": "execute_result"
        }
      ],
      "source": [
        "B = 2\n",
        "C = 3\n",
        "H = 3\n",
        "W = 3\n",
        "x = torch.arange(0,B*C*H*W).view(B,C,H,W)\n",
        "x"
      ]
    },
    {
      "cell_type": "code",
      "execution_count": 67,
      "metadata": {},
      "outputs": [],
      "source": [
        "test = rearrange(x, 'b c h w -> b (h w) c')"
      ]
    },
    {
      "cell_type": "code",
      "execution_count": 68,
      "metadata": {},
      "outputs": [
        {
          "data": {
            "text/plain": [
              "tensor([[[[  0,   1,   2,   3],\n",
              "          [  4,   5,   6,   7],\n",
              "          [  8,   9,  10,  11],\n",
              "          [ 12,  13,  14,  15]],\n",
              "\n",
              "         [[ 16,  17,  18,  19],\n",
              "          [ 20,  21,  22,  23],\n",
              "          [ 24,  25,  26,  27],\n",
              "          [ 28,  29,  30,  31]],\n",
              "\n",
              "         [[ 32,  33,  34,  35],\n",
              "          [ 36,  37,  38,  39],\n",
              "          [ 40,  41,  42,  43],\n",
              "          [ 44,  45,  46,  47]],\n",
              "\n",
              "         [[ 48,  49,  50,  51],\n",
              "          [ 52,  53,  54,  55],\n",
              "          [ 56,  57,  58,  59],\n",
              "          [ 60,  61,  62,  63]],\n",
              "\n",
              "         [[ 64,  65,  66,  67],\n",
              "          [ 68,  69,  70,  71],\n",
              "          [ 72,  73,  74,  75],\n",
              "          [ 76,  77,  78,  79]],\n",
              "\n",
              "         [[ 80,  81,  82,  83],\n",
              "          [ 84,  85,  86,  87],\n",
              "          [ 88,  89,  90,  91],\n",
              "          [ 92,  93,  94,  95]],\n",
              "\n",
              "         [[ 96,  97,  98,  99],\n",
              "          [100, 101, 102, 103],\n",
              "          [104, 105, 106, 107],\n",
              "          [108, 109, 110, 111]],\n",
              "\n",
              "         [[112, 113, 114, 115],\n",
              "          [116, 117, 118, 119],\n",
              "          [120, 121, 122, 123],\n",
              "          [124, 125, 126, 127]],\n",
              "\n",
              "         [[128, 129, 130, 131],\n",
              "          [132, 133, 134, 135],\n",
              "          [136, 137, 138, 139],\n",
              "          [140, 141, 142, 143]],\n",
              "\n",
              "         [[144, 145, 146, 147],\n",
              "          [148, 149, 150, 151],\n",
              "          [152, 153, 154, 155],\n",
              "          [156, 157, 158, 159]]],\n",
              "\n",
              "\n",
              "        [[[160, 161, 162, 163],\n",
              "          [164, 165, 166, 167],\n",
              "          [168, 169, 170, 171],\n",
              "          [172, 173, 174, 175]],\n",
              "\n",
              "         [[176, 177, 178, 179],\n",
              "          [180, 181, 182, 183],\n",
              "          [184, 185, 186, 187],\n",
              "          [188, 189, 190, 191]],\n",
              "\n",
              "         [[192, 193, 194, 195],\n",
              "          [196, 197, 198, 199],\n",
              "          [200, 201, 202, 203],\n",
              "          [204, 205, 206, 207]],\n",
              "\n",
              "         [[208, 209, 210, 211],\n",
              "          [212, 213, 214, 215],\n",
              "          [216, 217, 218, 219],\n",
              "          [220, 221, 222, 223]],\n",
              "\n",
              "         [[224, 225, 226, 227],\n",
              "          [228, 229, 230, 231],\n",
              "          [232, 233, 234, 235],\n",
              "          [236, 237, 238, 239]],\n",
              "\n",
              "         [[240, 241, 242, 243],\n",
              "          [244, 245, 246, 247],\n",
              "          [248, 249, 250, 251],\n",
              "          [252, 253, 254, 255]],\n",
              "\n",
              "         [[256, 257, 258, 259],\n",
              "          [260, 261, 262, 263],\n",
              "          [264, 265, 266, 267],\n",
              "          [268, 269, 270, 271]],\n",
              "\n",
              "         [[272, 273, 274, 275],\n",
              "          [276, 277, 278, 279],\n",
              "          [280, 281, 282, 283],\n",
              "          [284, 285, 286, 287]],\n",
              "\n",
              "         [[288, 289, 290, 291],\n",
              "          [292, 293, 294, 295],\n",
              "          [296, 297, 298, 299],\n",
              "          [300, 301, 302, 303]],\n",
              "\n",
              "         [[304, 305, 306, 307],\n",
              "          [308, 309, 310, 311],\n",
              "          [312, 313, 314, 315],\n",
              "          [316, 317, 318, 319]]]])"
            ]
          },
          "execution_count": 68,
          "metadata": {},
          "output_type": "execute_result"
        }
      ],
      "source": [
        "B = 2\n",
        "C = 10\n",
        "H = 4\n",
        "W = 4\n",
        "\n",
        "pos = torch.arange(0,B*C*H*W).view(B,C,H,W)\n",
        "pos"
      ]
    },
    {
      "cell_type": "code",
      "execution_count": 69,
      "metadata": {},
      "outputs": [
        {
          "data": {
            "text/plain": [
              "tensor([[[ 14,  30,  46,  62,  78,  94, 110, 126, 142, 158],\n",
              "         [166, 182, 198, 214, 230, 246, 262, 278, 294, 310]],\n",
              "\n",
              "        [[  3,  19,  35,  51,  67,  83,  99, 115, 131, 147],\n",
              "         [170, 186, 202, 218, 234, 250, 266, 282, 298, 314]],\n",
              "\n",
              "        [[ 10,  26,  42,  58,  74,  90, 106, 122, 138, 154],\n",
              "         [162, 178, 194, 210, 226, 242, 258, 274, 290, 306]],\n",
              "\n",
              "        [[  9,  25,  41,  57,  73,  89, 105, 121, 137, 153],\n",
              "         [167, 183, 199, 215, 231, 247, 263, 279, 295, 311]]])"
            ]
          },
          "execution_count": 69,
          "metadata": {},
          "output_type": "execute_result"
        }
      ],
      "source": [
        "patches = rearrange(pos, 'b c h w -> (h w) b c')\n",
        "output, forward_indexes, backward_indexes = shuffle(patches)\n",
        "output"
      ]
    },
    {
      "cell_type": "code",
      "execution_count": 70,
      "metadata": {},
      "outputs": [],
      "source": [
        "cls_token = torch.nn.Parameter(torch.ones(1, 2, 10))"
      ]
    },
    {
      "cell_type": "code",
      "execution_count": 71,
      "metadata": {},
      "outputs": [],
      "source": [
        "test_array = torch.cat([cls_token, output], dim=0)\n",
        "\n",
        "patches = rearrange(test_array, 't b c -> b t c')\n"
      ]
    },
    {
      "cell_type": "code",
      "execution_count": 72,
      "metadata": {},
      "outputs": [
        {
          "name": "stdout",
          "output_type": "stream",
          "text": [
            "3 2 2 5 5\n"
          ]
        },
        {
          "data": {
            "text/plain": [
              "torch.Size([2, 5, 30])"
            ]
          },
          "execution_count": 72,
          "metadata": {},
          "output_type": "execute_result"
        }
      ],
      "source": [
        "import torch.nn as nn\n",
        "\n",
        "class Attention(nn.Module):\n",
        "    def __init__(self, dim, num_heads=8, qkv_bias=False, attn_drop=0., proj_drop=0.):\n",
        "        super().__init__()\n",
        "        self.num_heads = num_heads\n",
        "        head_dim = dim // num_heads\n",
        "        self.scale = head_dim ** -0.5 \n",
        "        torch.manual_seed(0)\n",
        "        self.qkv = nn.Linear(dim, dim * 3, bias=qkv_bias)\n",
        "        self.proj = nn.Linear(dim, dim)\n",
        "        self.attn_drop = nn.Dropout(attn_drop)\n",
        "        self.proj_drop = nn.Dropout(proj_drop)\n",
        "\n",
        "    def forward(self, x):\n",
        "        B, N, C = x.shape\n",
        "        \n",
        "        # print(B, N, 3, self.num_heads, C // self.num_heads)\n",
        "        # qkv = self.qkv(x).reshape(B, N, 3, self.num_heads, C // self.num_heads).permute(2, 0, 3, 1, 4)\n",
        "\n",
        "        print(3, B,  self.num_heads, N, C // self.num_heads)\n",
        "        # qkv = self.qkv(x).view(3, B,  self.num_heads, N, C // self.num_heads)\n",
        "\n",
        "        qkv = self.qkv(x)\n",
        "        return qkv\n",
        "        # q, k, v = qkv[0], qkv[1], qkv[2]   \n",
        "\n",
        "        # attn = (q @ k.transpose(-2, -1)) * self.scale\n",
        "        # attn = attn.softmax(dim=-1)\n",
        "        # attn = self.attn_drop(attn)\n",
        "\n",
        "        # x = (attn @ v).transpose(1, 2).reshape(B, N, C)\n",
        "        # x = self.proj(x)\n",
        "        # x = self.proj_drop(x)\n",
        "        return x\n",
        "\n",
        "\n",
        "attn = Attention(10,2)\n",
        "attn(patches).shape"
      ]
    },
    {
      "cell_type": "code",
      "execution_count": 73,
      "metadata": {},
      "outputs": [],
      "source": [
        "# DIM 2, 5, 30\n",
        "\n",
        "\n",
        "# OPTION 1\n",
        "# 2, 5, 30 -> DIM 2 5 3 2 5 -> 3, 2, 2, 5, 5 ( 2, 0, 3, 1, 4 )\n",
        "\n",
        "# OPTION 2\n",
        "#  2, 5, 30 ->  DIM 3 2 2 5 5"
      ]
    },
    {
      "cell_type": "code",
      "execution_count": 74,
      "metadata": {},
      "outputs": [
        {
          "data": {
            "text/plain": [
              "tensor([[[[[  0,   1,   2,   3,   4],\n",
              "           [ 30,  31,  32,  33,  34],\n",
              "           [ 60,  61,  62,  63,  64],\n",
              "           [ 90,  91,  92,  93,  94],\n",
              "           [120, 121, 122, 123, 124]],\n",
              "\n",
              "          [[  5,   6,   7,   8,   9],\n",
              "           [ 35,  36,  37,  38,  39],\n",
              "           [ 65,  66,  67,  68,  69],\n",
              "           [ 95,  96,  97,  98,  99],\n",
              "           [125, 126, 127, 128, 129]]],\n",
              "\n",
              "\n",
              "         [[[150, 151, 152, 153, 154],\n",
              "           [180, 181, 182, 183, 184],\n",
              "           [210, 211, 212, 213, 214],\n",
              "           [240, 241, 242, 243, 244],\n",
              "           [270, 271, 272, 273, 274]],\n",
              "\n",
              "          [[155, 156, 157, 158, 159],\n",
              "           [185, 186, 187, 188, 189],\n",
              "           [215, 216, 217, 218, 219],\n",
              "           [245, 246, 247, 248, 249],\n",
              "           [275, 276, 277, 278, 279]]]],\n",
              "\n",
              "\n",
              "\n",
              "        [[[[ 10,  11,  12,  13,  14],\n",
              "           [ 40,  41,  42,  43,  44],\n",
              "           [ 70,  71,  72,  73,  74],\n",
              "           [100, 101, 102, 103, 104],\n",
              "           [130, 131, 132, 133, 134]],\n",
              "\n",
              "          [[ 15,  16,  17,  18,  19],\n",
              "           [ 45,  46,  47,  48,  49],\n",
              "           [ 75,  76,  77,  78,  79],\n",
              "           [105, 106, 107, 108, 109],\n",
              "           [135, 136, 137, 138, 139]]],\n",
              "\n",
              "\n",
              "         [[[160, 161, 162, 163, 164],\n",
              "           [190, 191, 192, 193, 194],\n",
              "           [220, 221, 222, 223, 224],\n",
              "           [250, 251, 252, 253, 254],\n",
              "           [280, 281, 282, 283, 284]],\n",
              "\n",
              "          [[165, 166, 167, 168, 169],\n",
              "           [195, 196, 197, 198, 199],\n",
              "           [225, 226, 227, 228, 229],\n",
              "           [255, 256, 257, 258, 259],\n",
              "           [285, 286, 287, 288, 289]]]],\n",
              "\n",
              "\n",
              "\n",
              "        [[[[ 20,  21,  22,  23,  24],\n",
              "           [ 50,  51,  52,  53,  54],\n",
              "           [ 80,  81,  82,  83,  84],\n",
              "           [110, 111, 112, 113, 114],\n",
              "           [140, 141, 142, 143, 144]],\n",
              "\n",
              "          [[ 25,  26,  27,  28,  29],\n",
              "           [ 55,  56,  57,  58,  59],\n",
              "           [ 85,  86,  87,  88,  89],\n",
              "           [115, 116, 117, 118, 119],\n",
              "           [145, 146, 147, 148, 149]]],\n",
              "\n",
              "\n",
              "         [[[170, 171, 172, 173, 174],\n",
              "           [200, 201, 202, 203, 204],\n",
              "           [230, 231, 232, 233, 234],\n",
              "           [260, 261, 262, 263, 264],\n",
              "           [290, 291, 292, 293, 294]],\n",
              "\n",
              "          [[175, 176, 177, 178, 179],\n",
              "           [205, 206, 207, 208, 209],\n",
              "           [235, 236, 237, 238, 239],\n",
              "           [265, 266, 267, 268, 269],\n",
              "           [295, 296, 297, 298, 299]]]]])"
            ]
          },
          "execution_count": 74,
          "metadata": {},
          "output_type": "execute_result"
        }
      ],
      "source": [
        "A = 2\n",
        "B = 5\n",
        "C = 30\n",
        "\n",
        "x = torch.arange(0,A*B*C)\n",
        "\n",
        "x.view(2,5,3,2,5).permute(2,0,3,1,4)"
      ]
    },
    {
      "cell_type": "code",
      "execution_count": 75,
      "metadata": {},
      "outputs": [
        {
          "data": {
            "text/plain": [
              "tensor([[[[[  0,   1,   2,   3,   4],\n",
              "           [  5,   6,   7,   8,   9],\n",
              "           [ 10,  11,  12,  13,  14],\n",
              "           [ 15,  16,  17,  18,  19],\n",
              "           [ 20,  21,  22,  23,  24]],\n",
              "\n",
              "          [[ 25,  26,  27,  28,  29],\n",
              "           [ 30,  31,  32,  33,  34],\n",
              "           [ 35,  36,  37,  38,  39],\n",
              "           [ 40,  41,  42,  43,  44],\n",
              "           [ 45,  46,  47,  48,  49]]],\n",
              "\n",
              "\n",
              "         [[[ 50,  51,  52,  53,  54],\n",
              "           [ 55,  56,  57,  58,  59],\n",
              "           [ 60,  61,  62,  63,  64],\n",
              "           [ 65,  66,  67,  68,  69],\n",
              "           [ 70,  71,  72,  73,  74]],\n",
              "\n",
              "          [[ 75,  76,  77,  78,  79],\n",
              "           [ 80,  81,  82,  83,  84],\n",
              "           [ 85,  86,  87,  88,  89],\n",
              "           [ 90,  91,  92,  93,  94],\n",
              "           [ 95,  96,  97,  98,  99]]]],\n",
              "\n",
              "\n",
              "\n",
              "        [[[[100, 101, 102, 103, 104],\n",
              "           [105, 106, 107, 108, 109],\n",
              "           [110, 111, 112, 113, 114],\n",
              "           [115, 116, 117, 118, 119],\n",
              "           [120, 121, 122, 123, 124]],\n",
              "\n",
              "          [[125, 126, 127, 128, 129],\n",
              "           [130, 131, 132, 133, 134],\n",
              "           [135, 136, 137, 138, 139],\n",
              "           [140, 141, 142, 143, 144],\n",
              "           [145, 146, 147, 148, 149]]],\n",
              "\n",
              "\n",
              "         [[[150, 151, 152, 153, 154],\n",
              "           [155, 156, 157, 158, 159],\n",
              "           [160, 161, 162, 163, 164],\n",
              "           [165, 166, 167, 168, 169],\n",
              "           [170, 171, 172, 173, 174]],\n",
              "\n",
              "          [[175, 176, 177, 178, 179],\n",
              "           [180, 181, 182, 183, 184],\n",
              "           [185, 186, 187, 188, 189],\n",
              "           [190, 191, 192, 193, 194],\n",
              "           [195, 196, 197, 198, 199]]]],\n",
              "\n",
              "\n",
              "\n",
              "        [[[[200, 201, 202, 203, 204],\n",
              "           [205, 206, 207, 208, 209],\n",
              "           [210, 211, 212, 213, 214],\n",
              "           [215, 216, 217, 218, 219],\n",
              "           [220, 221, 222, 223, 224]],\n",
              "\n",
              "          [[225, 226, 227, 228, 229],\n",
              "           [230, 231, 232, 233, 234],\n",
              "           [235, 236, 237, 238, 239],\n",
              "           [240, 241, 242, 243, 244],\n",
              "           [245, 246, 247, 248, 249]]],\n",
              "\n",
              "\n",
              "         [[[250, 251, 252, 253, 254],\n",
              "           [255, 256, 257, 258, 259],\n",
              "           [260, 261, 262, 263, 264],\n",
              "           [265, 266, 267, 268, 269],\n",
              "           [270, 271, 272, 273, 274]],\n",
              "\n",
              "          [[275, 276, 277, 278, 279],\n",
              "           [280, 281, 282, 283, 284],\n",
              "           [285, 286, 287, 288, 289],\n",
              "           [290, 291, 292, 293, 294],\n",
              "           [295, 296, 297, 298, 299]]]]])"
            ]
          },
          "execution_count": 75,
          "metadata": {},
          "output_type": "execute_result"
        }
      ],
      "source": [
        "x.view(3,2,2,5,5)"
      ]
    }
  ],
  "metadata": {
    "colab": {
      "provenance": []
    },
    "kernelspec": {
      "display_name": "Python 3",
      "name": "python3"
    },
    "language_info": {
      "codemirror_mode": {
        "name": "ipython",
        "version": 3
      },
      "file_extension": ".py",
      "mimetype": "text/x-python",
      "name": "python",
      "nbconvert_exporter": "python",
      "pygments_lexer": "ipython3",
      "version": "3.8.18"
    }
  },
  "nbformat": 4,
  "nbformat_minor": 0
}
