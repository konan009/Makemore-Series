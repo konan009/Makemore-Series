{
  "cells": [
    {
      "cell_type": "code",
      "execution_count": 1,
      "metadata": {},
      "outputs": [],
      "source": [
        "import numpy as np\n",
        "import gym\n",
        "import random\n",
        "import time\n"
      ]
    },
    {
      "cell_type": "code",
      "execution_count": 88,
      "metadata": {},
      "outputs": [],
      "source": [
        "env = gym.make('FrozenLake-v1', map_name=\"4x4\", is_slippery=False)"
      ]
    },
    {
      "cell_type": "markdown",
      "metadata": {},
      "source": [
        "## Environment"
      ]
    },
    {
      "cell_type": "markdown",
      "metadata": {},
      "source": [
        "![title](\"Frozen Lake.png\")"
      ]
    },
    {
      "cell_type": "code",
      "execution_count": 89,
      "metadata": {},
      "outputs": [
        {
          "data": {
            "text/plain": [
              "array([[b'S', b'F', b'F', b'F'],\n",
              "       [b'F', b'H', b'F', b'H'],\n",
              "       [b'F', b'F', b'F', b'H'],\n",
              "       [b'H', b'F', b'F', b'G']], dtype='|S1')"
            ]
          },
          "execution_count": 89,
          "metadata": {},
          "output_type": "execute_result"
        }
      ],
      "source": [
        "env.desc"
      ]
    },
    {
      "cell_type": "markdown",
      "metadata": {},
      "source": [
        "## Actions\n",
        "0: Move left <br/>\n",
        "1: Move down <br/>\n",
        "2: Move right <br/>\n",
        "3: Move up <br/>"
      ]
    },
    {
      "cell_type": "code",
      "execution_count": 90,
      "metadata": {},
      "outputs": [
        {
          "data": {
            "text/plain": [
              "16"
            ]
          },
          "execution_count": 90,
          "metadata": {},
          "output_type": "execute_result"
        }
      ],
      "source": [
        "action_size = env.action_space.n\n",
        "state_size = env.observation_space.n\n",
        "state_size"
      ]
    },
    {
      "cell_type": "code",
      "execution_count": 91,
      "metadata": {},
      "outputs": [],
      "source": [
        "total_episodes = 15000        # Total episodes\n",
        "learning_rate = 0.8           # Learning rate\n",
        "max_steps = 99                # Max steps per episode\n",
        "gamma = 0.95                  # Discounting rate\n",
        "\n",
        "# Exploration parameters\n",
        "epsilon = 1.0                 # Exploration rate\n",
        "max_epsilon = 1.0             # Exploration probability at start\n",
        "min_epsilon = 0.01            # Minimum exploration probability \n",
        "decay_rate = 0.005             # Exponential decay rate for exploration prob"
      ]
    },
    {
      "cell_type": "code",
      "execution_count": 92,
      "metadata": {},
      "outputs": [
        {
          "name": "stderr",
          "output_type": "stream",
          "text": [
            "d:\\anaconda3\\envs\\pattern_rec\\lib\\site-packages\\gym\\utils\\passive_env_checker.py:233: DeprecationWarning: `np.bool8` is a deprecated alias for `np.bool_`.  (Deprecated NumPy 1.24)\n",
            "  if not isinstance(terminated, (bool, np.bool8)):\n"
          ]
        }
      ],
      "source": [
        "# List of rewards\n",
        "rewards = []\n",
        "qtable = np.zeros((state_size, action_size))\n",
        "# 2 For life or until learning is stopped\n",
        "for episode in range(total_episodes):\n",
        "    # Reset the environment\n",
        "    state,info = env.reset()\n",
        "    state = int(state)\n",
        "    step = 0\n",
        "    done = False\n",
        "    total_rewards = 0\n",
        "    for step in range(max_steps):\n",
        "        # 3. Choose an action a in the current world state (s)\n",
        "        ## First we randomize a number\n",
        "        exp_exp_tradeoff = random.uniform(0, 1)\n",
        "        \n",
        "        ## If this number > greater than epsilon --> exploitation (taking the biggest Q value for this state)\n",
        "        if exp_exp_tradeoff > epsilon:\n",
        "            action = np.argmax(qtable[state,:])\n",
        "        # Else doing a random choice --> exploration\n",
        "        else:\n",
        "            action = env.action_space.sample()\n",
        "\n",
        "        # Take the action (a) and observe the outcome state(s') and reward (r)\n",
        "        new_state, reward, done, _, info = env.step(action)\n",
        "\n",
        "        # Update Q(s,a):= Q(s,a) + lr [R(s,a) + gamma * max Q(s',a') - Q(s,a)]\n",
        "        qtable[state, action] = qtable[state, action] + learning_rate * (reward + gamma * np.max(qtable[new_state, :]) - qtable[state, action])\n",
        "        total_rewards += reward\n",
        "        \n",
        "        # Our new state is state\n",
        "        state = new_state\n",
        "        \n",
        "        # If done (if we're dead) : finish episode\n",
        "        if done == True: \n",
        "            break\n",
        "    # Reduce epsilon (because we need less and less exploration)\n",
        "    epsilon = min_epsilon + (max_epsilon - min_epsilon)*np.exp(-decay_rate*episode) \n",
        "    rewards.append(total_rewards)\n",
        "\n"
      ]
    },
    {
      "cell_type": "code",
      "execution_count": 82,
      "metadata": {},
      "outputs": [
        {
          "name": "stdout",
          "output_type": "stream",
          "text": [
            "New State:4  , Reward:0.0  , Done:False\n",
            "New State:8  , Reward:0.0  , Done:False\n",
            "New State:9  , Reward:0.0  , Done:False\n",
            "New State:13  , Reward:0.0  , Done:False\n",
            "New State:14  , Reward:0.0  , Done:False\n",
            "New State:15  , Reward:1.0  , Done:True\n"
          ]
        }
      ],
      "source": [
        "state,info = env.reset()\n",
        "new_state, reward, done, _, info = env.step(1)\n",
        "print(f\"New State:{new_state}  , Reward:{reward}  , Done:{done}\")\n",
        "\n",
        "new_state, reward, done, _, info = env.step(1)\n",
        "print(f\"New State:{new_state}  , Reward:{reward}  , Done:{done}\")\n",
        "\n",
        "new_state, reward, done, _, info = env.step(2)\n",
        "print(f\"New State:{new_state}  , Reward:{reward}  , Done:{done}\")\n",
        "\n",
        "new_state, reward, done, _, info = env.step(1)\n",
        "print(f\"New State:{new_state}  , Reward:{reward}  , Done:{done}\")\n",
        "\n",
        "new_state, reward, done, _, info = env.step(2)\n",
        "print(f\"New State:{new_state}  , Reward:{reward}  , Done:{done}\")\n",
        "\n",
        "new_state, reward, done, _, info = env.step(2)\n",
        "print(f\"New State:{new_state}  , Reward:{reward}  , Done:{done}\")"
      ]
    },
    {
      "cell_type": "code",
      "execution_count": 97,
      "metadata": {},
      "outputs": [],
      "source": [
        "env = gym.make('FrozenLake-v1', is_slippery=False,render_mode = \"human\")\n",
        "state,_ = env.reset()\n",
        "time.sleep(2)\n",
        "done = False\n",
        "while not done:\n",
        "    env.render()  # Render the environment\n",
        "    action = np.argmax(qtable[state])\n",
        "    state, _, done, _, _ = env.step(action)\n",
        "env.close()\n"
      ]
    }
  ],
  "metadata": {
    "colab": {
      "provenance": []
    },
    "kernelspec": {
      "display_name": "Python 3",
      "name": "python3"
    },
    "language_info": {
      "codemirror_mode": {
        "name": "ipython",
        "version": 3
      },
      "file_extension": ".py",
      "mimetype": "text/x-python",
      "name": "python",
      "nbconvert_exporter": "python",
      "pygments_lexer": "ipython3",
      "version": "3.8.18"
    }
  },
  "nbformat": 4,
  "nbformat_minor": 0
}
