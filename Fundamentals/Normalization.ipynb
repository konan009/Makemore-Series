{
  "cells": [
    {
      "cell_type": "code",
      "execution_count": 60,
      "metadata": {},
      "outputs": [],
      "source": [
        "import torch\n",
        "import torch.nn as nn"
      ]
    },
    {
      "cell_type": "code",
      "execution_count": 61,
      "metadata": {},
      "outputs": [
        {
          "data": {
            "text/plain": [
              "tensor([[[ 0.,  1.],\n",
              "         [ 2.,  3.],\n",
              "         [ 4.,  5.]],\n",
              "\n",
              "        [[ 6.,  7.],\n",
              "         [ 8.,  9.],\n",
              "         [10., 11.]],\n",
              "\n",
              "        [[12., 13.],\n",
              "         [14., 15.],\n",
              "         [16., 17.]],\n",
              "\n",
              "        [[18., 19.],\n",
              "         [20., 21.],\n",
              "         [22., 23.]]])"
            ]
          },
          "execution_count": 61,
          "metadata": {},
          "output_type": "execute_result"
        }
      ],
      "source": [
        "B, T, C = 4, 3, 2\n",
        "x = torch.arange(0, B * T * C).view(B,T,C).float()\n",
        "x"
      ]
    },
    {
      "cell_type": "code",
      "execution_count": 62,
      "metadata": {},
      "outputs": [
        {
          "data": {
            "text/plain": [
              "tensor([[[-1.0000,  1.0000],\n",
              "         [-1.0000,  1.0000],\n",
              "         [-1.0000,  1.0000]],\n",
              "\n",
              "        [[-1.0000,  1.0000],\n",
              "         [-1.0000,  1.0000],\n",
              "         [-1.0000,  1.0000]],\n",
              "\n",
              "        [[-1.0000,  1.0000],\n",
              "         [-1.0000,  1.0000],\n",
              "         [-1.0000,  1.0000]],\n",
              "\n",
              "        [[-1.0000,  1.0000],\n",
              "         [-1.0000,  1.0000],\n",
              "         [-1.0000,  1.0000]]])"
            ]
          },
          "execution_count": 62,
          "metadata": {},
          "output_type": "execute_result"
        }
      ],
      "source": [
        "layer_norm = nn.LayerNorm(normalized_shape=C,elementwise_affine=False,bias=False)\n",
        "layer_norm(x)"
      ]
    },
    {
      "cell_type": "code",
      "execution_count": 63,
      "metadata": {},
      "outputs": [
        {
          "data": {
            "text/plain": [
              "(tensor([ 2.5000,  8.5000, 14.5000, 20.5000]),\n",
              " tensor([3.5000, 3.5000, 3.5000, 3.5000]))"
            ]
          },
          "execution_count": 63,
          "metadata": {},
          "output_type": "execute_result"
        }
      ],
      "source": [
        "x.view(B,T*C).mean(dim=-1),torch.var(x.view(B,T*C),dim=-1)"
      ]
    },
    {
      "cell_type": "code",
      "execution_count": 64,
      "metadata": {},
      "outputs": [
        {
          "data": {
            "text/plain": [
              "(1e-05, <generator object Module.parameters at 0x0000014EA803C970>)"
            ]
          },
          "execution_count": 64,
          "metadata": {},
          "output_type": "execute_result"
        }
      ],
      "source": [
        "layer_norm.eps, layer_norm.parameters()"
      ]
    },
    {
      "cell_type": "code",
      "execution_count": 65,
      "metadata": {},
      "outputs": [],
      "source": [
        "for parameter in layer_norm.parameters():\n",
        "    print(parameter)"
      ]
    },
    {
      "cell_type": "code",
      "execution_count": 66,
      "metadata": {},
      "outputs": [
        {
          "data": {
            "text/plain": [
              "(tensor([60.0667, 57.5333, 45.2667, 54.0667]),\n",
              " tensor([ 751.6622,  887.8489, 1344.1956,  561.9289]))"
            ]
          },
          "execution_count": 66,
          "metadata": {},
          "output_type": "execute_result"
        }
      ],
      "source": [
        "x = torch.tensor([[\n",
        "         [76.,  2., 43.],\n",
        "         [79., 50., 29.],\n",
        "         [59., 78., 73.],\n",
        "         [95., 94., 76.],\n",
        "         [ 9., 74., 64.]],\n",
        "\n",
        "        [[76., 87., 50.],\n",
        "         [ 2., 65., 44.],\n",
        "         [74.,  9., 82.],\n",
        "         [83., 54., 82.],\n",
        "         [ 6., 97., 52.]],\n",
        "\n",
        "        [[88., 19., 95.],\n",
        "         [14., 96., 96.],\n",
        "         [93., 58.,  0.],\n",
        "         [19., 37.,  6.],\n",
        "         [28., 23.,  7.]],\n",
        "\n",
        "        [[ 7., 54., 59.],\n",
        "         [57., 30., 18.],\n",
        "         [88., 89., 63.],\n",
        "         [56., 75., 56.],\n",
        "         [63., 23., 73.]]])\n",
        "\n",
        "B,T,C = x.shape\n",
        "normalized_shape = (T,C)\n",
        "x.view(B,T*C).mean(dim=-1),x.view(B,T*C).var(dim=-1,correction=False)"
      ]
    },
    {
      "cell_type": "code",
      "execution_count": 67,
      "metadata": {},
      "outputs": [
        {
          "name": "stdout",
          "output_type": "stream",
          "text": [
            "μ = 60.0667\n",
            "σ^2 = 751.6622\n",
            "tensor([[ 0.5812, -2.1179, -0.6225],\n",
            "        [ 0.6906, -0.3672, -1.1331],\n",
            "        [-0.0389,  0.6541,  0.4717],\n",
            "        [ 1.2742,  1.2377,  0.5812],\n",
            "        [-1.8626,  0.5082,  0.1435]])\n",
            "==================================================\n",
            "μ = 57.5333\n",
            "σ^2 = 887.8489\n",
            "tensor([[ 0.6198,  0.9889, -0.2528],\n",
            "        [-1.8637,  0.2506, -0.4542],\n",
            "        [ 0.5526, -1.6288,  0.8211],\n",
            "        [ 0.8547, -0.1186,  0.8211],\n",
            "        [-1.7295,  1.3245, -0.1857]])\n",
            "==================================================\n",
            "μ = 45.2667\n",
            "σ^2 = 1344.1956\n",
            "tensor([[ 1.1656, -0.7164,  1.3565],\n",
            "        [-0.8528,  1.3838,  1.3838],\n",
            "        [ 1.3019,  0.3473, -1.2347],\n",
            "        [-0.7164, -0.2255, -1.0710],\n",
            "        [-0.4710, -0.6073, -1.0437]])\n",
            "==================================================\n",
            "μ = 54.0667\n",
            "σ^2 = 561.9289\n",
            "tensor([[-1.9855, -0.0028,  0.2081],\n",
            "        [ 0.1237, -1.0153, -1.5215],\n",
            "        [ 1.4315,  1.4737,  0.3769],\n",
            "        [ 0.0816,  0.8831,  0.0816],\n",
            "        [ 0.3769, -1.3106,  0.7987]])\n",
            "==================================================\n"
          ]
        }
      ],
      "source": [
        "# Normalize\n",
        "for i in range(0,4):               # loop through each matrix\n",
        "  mean = x[i].mean()               # mean         \n",
        "  var = x[i].var(unbiased=False)   # variance\n",
        "  layer_norm = (x[i]-mean)/(torch.sqrt(var+0.00005))\n",
        "\n",
        "  print(f\"μ = {mean:.4f}\")            \n",
        "  print(f\"σ^{2} = {var:.4f}\") \n",
        "  print(layer_norm)\n",
        "  print(\"=\"*50)"
      ]
    },
    {
      "cell_type": "code",
      "execution_count": 68,
      "metadata": {},
      "outputs": [
        {
          "data": {
            "text/plain": [
              "tensor([[[ 0.5812, -2.1179, -0.6225],\n",
              "         [ 0.6906, -0.3672, -1.1331],\n",
              "         [-0.0389,  0.6541,  0.4717],\n",
              "         [ 1.2742,  1.2377,  0.5812],\n",
              "         [-1.8626,  0.5082,  0.1435]],\n",
              "\n",
              "        [[ 0.6198,  0.9889, -0.2528],\n",
              "         [-1.8637,  0.2506, -0.4542],\n",
              "         [ 0.5526, -1.6288,  0.8211],\n",
              "         [ 0.8547, -0.1186,  0.8211],\n",
              "         [-1.7295,  1.3245, -0.1857]],\n",
              "\n",
              "        [[ 1.1656, -0.7164,  1.3565],\n",
              "         [-0.8528,  1.3838,  1.3838],\n",
              "         [ 1.3019,  0.3473, -1.2347],\n",
              "         [-0.7164, -0.2255, -1.0710],\n",
              "         [-0.4710, -0.6073, -1.0437]],\n",
              "\n",
              "        [[-1.9855, -0.0028,  0.2081],\n",
              "         [ 0.1237, -1.0153, -1.5215],\n",
              "         [ 1.4315,  1.4737,  0.3769],\n",
              "         [ 0.0816,  0.8831,  0.0816],\n",
              "         [ 0.3769, -1.3106,  0.7987]]], grad_fn=<NativeLayerNormBackward0>)"
            ]
          },
          "execution_count": 68,
          "metadata": {},
          "output_type": "execute_result"
        }
      ],
      "source": [
        "layer_norm = nn.LayerNorm(normalized_shape=normalized_shape,elementwise_affine=True)\n",
        "layer_norm(x)"
      ]
    }
  ],
  "metadata": {
    "colab": {
      "provenance": []
    },
    "kernelspec": {
      "display_name": "Python 3",
      "name": "python3"
    },
    "language_info": {
      "codemirror_mode": {
        "name": "ipython",
        "version": 3
      },
      "file_extension": ".py",
      "mimetype": "text/x-python",
      "name": "python",
      "nbconvert_exporter": "python",
      "pygments_lexer": "ipython3",
      "version": "3.8.18"
    }
  },
  "nbformat": 4,
  "nbformat_minor": 0
}
