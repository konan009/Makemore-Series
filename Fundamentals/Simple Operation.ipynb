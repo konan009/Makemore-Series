{
  "cells": [
    {
      "cell_type": "code",
      "execution_count": 51,
      "metadata": {},
      "outputs": [],
      "source": [
        "import torch"
      ]
    },
    {
      "cell_type": "code",
      "execution_count": 52,
      "metadata": {},
      "outputs": [
        {
          "data": {
            "text/plain": [
              "tensor([[[ 0.,  1.],\n",
              "         [ 2.,  3.],\n",
              "         [ 4.,  5.]],\n",
              "\n",
              "        [[ 6.,  7.],\n",
              "         [ 8.,  9.],\n",
              "         [10., 11.]],\n",
              "\n",
              "        [[12., 13.],\n",
              "         [14., 15.],\n",
              "         [16., 17.]],\n",
              "\n",
              "        [[18., 19.],\n",
              "         [20., 21.],\n",
              "         [22., 23.]]])"
            ]
          },
          "execution_count": 52,
          "metadata": {},
          "output_type": "execute_result"
        }
      ],
      "source": [
        "B, T, C = 4, 3, 2\n",
        "x = torch.arange(0, B * T * C).view(B,T,C).float()\n",
        "x"
      ]
    },
    {
      "cell_type": "code",
      "execution_count": 53,
      "metadata": {},
      "outputs": [
        {
          "data": {
            "text/plain": [
              "tensor([[[36., 40.],\n",
              "         [44., 48.],\n",
              "         [52., 56.]]])"
            ]
          },
          "execution_count": 53,
          "metadata": {},
          "output_type": "execute_result"
        }
      ],
      "source": [
        "x.sum(dim=0,keepdims=True)"
      ]
    },
    {
      "cell_type": "code",
      "execution_count": 54,
      "metadata": {},
      "outputs": [
        {
          "data": {
            "text/plain": [
              "tensor([[[ 6.,  9.]],\n",
              "\n",
              "        [[24., 27.]],\n",
              "\n",
              "        [[42., 45.]],\n",
              "\n",
              "        [[60., 63.]]])"
            ]
          },
          "execution_count": 54,
          "metadata": {},
          "output_type": "execute_result"
        }
      ],
      "source": [
        "x.sum(dim=1,keepdims=True)"
      ]
    },
    {
      "cell_type": "code",
      "execution_count": 55,
      "metadata": {},
      "outputs": [
        {
          "data": {
            "text/plain": [
              "tensor([[[ 1.],\n",
              "         [ 5.],\n",
              "         [ 9.]],\n",
              "\n",
              "        [[13.],\n",
              "         [17.],\n",
              "         [21.]],\n",
              "\n",
              "        [[25.],\n",
              "         [29.],\n",
              "         [33.]],\n",
              "\n",
              "        [[37.],\n",
              "         [41.],\n",
              "         [45.]]])"
            ]
          },
          "execution_count": 55,
          "metadata": {},
          "output_type": "execute_result"
        }
      ],
      "source": [
        "x.sum(dim=2,keepdims=True)"
      ]
    },
    {
      "cell_type": "code",
      "execution_count": 56,
      "metadata": {},
      "outputs": [
        {
          "data": {
            "text/plain": [
              "tensor([[[[ 0.,  1.,  2.,  3.],\n",
              "          [ 4.,  5.,  6.,  7.],\n",
              "          [ 8.,  9., 10., 11.]],\n",
              "\n",
              "         [[12., 13., 14., 15.],\n",
              "          [16., 17., 18., 19.],\n",
              "          [20., 21., 22., 23.]]],\n",
              "\n",
              "\n",
              "        [[[24., 25., 26., 27.],\n",
              "          [28., 29., 30., 31.],\n",
              "          [32., 33., 34., 35.]],\n",
              "\n",
              "         [[36., 37., 38., 39.],\n",
              "          [40., 41., 42., 43.],\n",
              "          [44., 45., 46., 47.]]],\n",
              "\n",
              "\n",
              "        [[[48., 49., 50., 51.],\n",
              "          [52., 53., 54., 55.],\n",
              "          [56., 57., 58., 59.]],\n",
              "\n",
              "         [[60., 61., 62., 63.],\n",
              "          [64., 65., 66., 67.],\n",
              "          [68., 69., 70., 71.]]]])"
            ]
          },
          "execution_count": 56,
          "metadata": {},
          "output_type": "execute_result"
        }
      ],
      "source": [
        "I, B, T, C = 3, 2, 3, 4\n",
        "x = torch.arange(0, I * B * T * C).view(I,B,T,C).float()\n",
        "x"
      ]
    },
    {
      "cell_type": "code",
      "execution_count": 57,
      "metadata": {},
      "outputs": [
        {
          "data": {
            "text/plain": [
              "tensor([[[[ 72.,  75.,  78.,  81.],\n",
              "          [ 84.,  87.,  90.,  93.],\n",
              "          [ 96.,  99., 102., 105.]],\n",
              "\n",
              "         [[108., 111., 114., 117.],\n",
              "          [120., 123., 126., 129.],\n",
              "          [132., 135., 138., 141.]]]])"
            ]
          },
          "execution_count": 57,
          "metadata": {},
          "output_type": "execute_result"
        }
      ],
      "source": [
        "x.sum(dim=0,keepdims=True)"
      ]
    },
    {
      "cell_type": "code",
      "execution_count": 58,
      "metadata": {},
      "outputs": [
        {
          "data": {
            "text/plain": [
              "tensor([[[[ 12.,  14.,  16.,  18.],\n",
              "          [ 20.,  22.,  24.,  26.],\n",
              "          [ 28.,  30.,  32.,  34.]]],\n",
              "\n",
              "\n",
              "        [[[ 60.,  62.,  64.,  66.],\n",
              "          [ 68.,  70.,  72.,  74.],\n",
              "          [ 76.,  78.,  80.,  82.]]],\n",
              "\n",
              "\n",
              "        [[[108., 110., 112., 114.],\n",
              "          [116., 118., 120., 122.],\n",
              "          [124., 126., 128., 130.]]]])"
            ]
          },
          "execution_count": 58,
          "metadata": {},
          "output_type": "execute_result"
        }
      ],
      "source": [
        "x.sum(dim=1,keepdims=True)"
      ]
    },
    {
      "cell_type": "code",
      "execution_count": 59,
      "metadata": {},
      "outputs": [
        {
          "data": {
            "text/plain": [
              "tensor([[[[ 12.,  15.,  18.,  21.]],\n",
              "\n",
              "         [[ 48.,  51.,  54.,  57.]]],\n",
              "\n",
              "\n",
              "        [[[ 84.,  87.,  90.,  93.]],\n",
              "\n",
              "         [[120., 123., 126., 129.]]],\n",
              "\n",
              "\n",
              "        [[[156., 159., 162., 165.]],\n",
              "\n",
              "         [[192., 195., 198., 201.]]]])"
            ]
          },
          "execution_count": 59,
          "metadata": {},
          "output_type": "execute_result"
        }
      ],
      "source": [
        "x.sum(dim=2,keepdims=True)"
      ]
    },
    {
      "cell_type": "code",
      "execution_count": 60,
      "metadata": {},
      "outputs": [
        {
          "data": {
            "text/plain": [
              "tensor([[[[  6.],\n",
              "          [ 22.],\n",
              "          [ 38.]],\n",
              "\n",
              "         [[ 54.],\n",
              "          [ 70.],\n",
              "          [ 86.]]],\n",
              "\n",
              "\n",
              "        [[[102.],\n",
              "          [118.],\n",
              "          [134.]],\n",
              "\n",
              "         [[150.],\n",
              "          [166.],\n",
              "          [182.]]],\n",
              "\n",
              "\n",
              "        [[[198.],\n",
              "          [214.],\n",
              "          [230.]],\n",
              "\n",
              "         [[246.],\n",
              "          [262.],\n",
              "          [278.]]]])"
            ]
          },
          "execution_count": 60,
          "metadata": {},
          "output_type": "execute_result"
        }
      ],
      "source": [
        "x.sum(dim=3,keepdims=True)"
      ]
    },
    {
      "cell_type": "code",
      "execution_count": 61,
      "metadata": {},
      "outputs": [
        {
          "data": {
            "text/plain": [
              "tensor([[[[ 0.,  1.],\n",
              "          [ 2.,  3.]],\n",
              "\n",
              "         [[ 4.,  5.],\n",
              "          [ 6.,  7.]]],\n",
              "\n",
              "\n",
              "        [[[ 8.,  9.],\n",
              "          [10., 11.]],\n",
              "\n",
              "         [[12., 13.],\n",
              "          [14., 15.]]],\n",
              "\n",
              "\n",
              "        [[[16., 17.],\n",
              "          [18., 19.]],\n",
              "\n",
              "         [[20., 21.],\n",
              "          [22., 23.]]]])"
            ]
          },
          "execution_count": 61,
          "metadata": {},
          "output_type": "execute_result"
        }
      ],
      "source": [
        "B, C, T, R = 3, 2, 2, 2\n",
        "x = torch.arange(0, B* C* T* R).view(B, C, T, R ).float()\n",
        "x"
      ]
    },
    {
      "cell_type": "code",
      "execution_count": 62,
      "metadata": {},
      "outputs": [
        {
          "data": {
            "text/plain": [
              "tensor([[[[ 0.,  1.],\n",
              "          [ 2.,  3.]],\n",
              "\n",
              "         [[ 4.,  5.],\n",
              "          [ 6.,  7.]],\n",
              "\n",
              "         [[ 8.,  9.],\n",
              "          [10., 11.]]],\n",
              "\n",
              "\n",
              "        [[[12., 13.],\n",
              "          [14., 15.]],\n",
              "\n",
              "         [[16., 17.],\n",
              "          [18., 19.]],\n",
              "\n",
              "         [[20., 21.],\n",
              "          [22., 23.]]]])"
            ]
          },
          "execution_count": 62,
          "metadata": {},
          "output_type": "execute_result"
        }
      ],
      "source": [
        "B, C, T, R =  2, 3, 2, 2\n",
        "x = torch.arange(0, B* C* T* R).view(B, C, T, R ).float()\n",
        "x"
      ]
    },
    {
      "cell_type": "code",
      "execution_count": 63,
      "metadata": {},
      "outputs": [
        {
          "data": {
            "text/plain": [
              "tensor([[[12., 14.],\n",
              "         [16., 18.]],\n",
              "\n",
              "        [[20., 22.],\n",
              "         [24., 26.]],\n",
              "\n",
              "        [[28., 30.],\n",
              "         [32., 34.]]])"
            ]
          },
          "execution_count": 63,
          "metadata": {},
          "output_type": "execute_result"
        }
      ],
      "source": [
        "x.sum(dim=(0))\n",
        "\n"
      ]
    },
    {
      "cell_type": "code",
      "execution_count": 64,
      "metadata": {},
      "outputs": [
        {
          "data": {
            "text/plain": [
              "tensor([ 60.,  92., 124.])"
            ]
          },
          "execution_count": 64,
          "metadata": {},
          "output_type": "execute_result"
        }
      ],
      "source": [
        "x.sum((0,2,3))"
      ]
    },
    {
      "cell_type": "code",
      "execution_count": 65,
      "metadata": {},
      "outputs": [
        {
          "data": {
            "text/plain": [
              "tensor([[[12., 14.],\n",
              "         [16., 18.]],\n",
              "\n",
              "        [[20., 22.],\n",
              "         [24., 26.]],\n",
              "\n",
              "        [[28., 30.],\n",
              "         [32., 34.]]])"
            ]
          },
          "execution_count": 65,
          "metadata": {},
          "output_type": "execute_result"
        }
      ],
      "source": [
        "x.sum(0)"
      ]
    },
    {
      "cell_type": "code",
      "execution_count": 66,
      "metadata": {},
      "outputs": [
        {
          "data": {
            "text/plain": [
              "tensor([ 60.,  92., 124.])"
            ]
          },
          "execution_count": 66,
          "metadata": {},
          "output_type": "execute_result"
        }
      ],
      "source": [
        "x.sum(0).sum(1).sum(-1)"
      ]
    },
    {
      "cell_type": "code",
      "execution_count": 71,
      "metadata": {},
      "outputs": [
        {
          "data": {
            "text/plain": [
              "tensor([ 60.,  92., 124.])"
            ]
          },
          "execution_count": 71,
          "metadata": {},
          "output_type": "execute_result"
        }
      ],
      "source": [
        "x.sum((0,2,-1))"
      ]
    }
  ],
  "metadata": {
    "colab": {
      "provenance": []
    },
    "kernelspec": {
      "display_name": "Python 3",
      "name": "python3"
    },
    "language_info": {
      "codemirror_mode": {
        "name": "ipython",
        "version": 3
      },
      "file_extension": ".py",
      "mimetype": "text/x-python",
      "name": "python",
      "nbconvert_exporter": "python",
      "pygments_lexer": "ipython3",
      "version": "3.8.18"
    }
  },
  "nbformat": 4,
  "nbformat_minor": 0
}
